{
 "cells": [
  {
   "cell_type": "code",
   "execution_count": 1,
   "metadata": {},
   "outputs": [],
   "source": [
    "from keras.layers import Input, Dense, concatenate, Embedding, ReLU, Dropout, Bidirectional, GRU, Add\n",
    "from keras import Model"
   ]
  },
  {
   "cell_type": "code",
   "execution_count": null,
   "metadata": {},
   "outputs": [],
   "source": [
    "name_vocab_size = 256\n",
    "calorie_vocab_size = 3\n",
    "ingredient_vocab_size = 100"
   ]
  },
  {
   "cell_type": "code",
   "execution_count": null,
   "metadata": {},
   "outputs": [],
   "source": [
    "# inputs\n",
    "image_input = Input(256, name=\"decoder_input\") \n",
    "\n",
    "# hidden layers\n",
    "x = Conv2D(filters=32,kernel_size=(3,3),activation='relu')(image_input)\n",
    "x = MaxPooling2D(pool_size=(2,2))(x)\n",
    "x = Conv2D(filters=32,kernel_size=(3,3), activation='relu')(x)\n",
    "x = Dropout(0.25)(x)\n",
    "x = Conv2D(filters=64,kernel_size=(3,3), activation='relu')(x)\n",
    "x = MaxPooling2D(pool_size=(2,2))(x)\n",
    "x = Dropout(0.25)(x)\n",
    "x = Flatten()(x)\n",
    "x = Dense(128, activation='relu')(x)\n",
    "x = Dropout(0.25)(x)\n",
    "\n",
    "# outputs\n",
    "gender_prediction = Dense(3, activation='softmax')(x)\n",
    "age_prediction = Dense(3, activation='softmax')(x)\n",
    "\n",
    "# model\n",
    "model = Model(inputs=image_input, outputs=[gender_prediction, age_prediction])\n"
   ]
  },
  {
   "cell_type": "code",
   "execution_count": null,
   "metadata": {},
   "outputs": [],
   "source": [
    "import keras\n",
    "keras.utils.plot_model(model, \"model.png\",show_shapes=True)"
   ]
  }
 ],
 "metadata": {
  "kernelspec": {
   "display_name": "venv",
   "language": "python",
   "name": "python3"
  },
  "language_info": {
   "codemirror_mode": {
    "name": "ipython",
    "version": 3
   },
   "file_extension": ".py",
   "mimetype": "text/x-python",
   "name": "python",
   "nbconvert_exporter": "python",
   "pygments_lexer": "ipython3",
   "version": "3.10.0"
  },
  "orig_nbformat": 4,
  "vscode": {
   "interpreter": {
    "hash": "d5b370db8c4f0b7e7c3539ed96a23845657087c428c83493fd6998acf4a741d4"
   }
  }
 },
 "nbformat": 4,
 "nbformat_minor": 2
}
