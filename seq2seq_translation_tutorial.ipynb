{
  "cells": [
    {
      "cell_type": "code",
      "execution_count": null,
      "metadata": {
        "collapsed": false
      },
      "outputs": [],
      "source": [
        "from __future__ import unicode_literals, print_function, division\n",
        "from io import open\n",
        "import unicodedata\n",
        "import string\n",
        "import re\n",
        "import random\n",
        "\n",
        "import torch\n",
        "import torch.nn as nn\n",
        "from torch import optim\n",
        "import torch.nn.functional as F\n",
        "\n",
        "device = torch.device(\"cuda\" if torch.cuda.is_available() else \"cpu\")"
      ]
    },
    {
      "cell_type": "markdown",
      "metadata": {},
      "source": [
        "## Loading data files\n",
        "\n",
        "The data for this project is a set of many thousands of English to\n",
        "French translation pairs.\n",
        "\n",
        "[This question on Open Data Stack\n",
        "Exchange](https://opendata.stackexchange.com/questions/3888/dataset-of-sentences-translated-into-many-languages)_\n",
        "pointed me to the open translation site https://tatoeba.org/ which has\n",
        "downloads available at https://tatoeba.org/eng/downloads - and better\n",
        "yet, someone did the extra work of splitting language pairs into\n",
        "individual text files here: https://www.manythings.org/anki/\n",
        "\n",
        "The English to French pairs are too big to include in the repo, so\n",
        "download to ``data/eng-fra.txt`` before continuing. The file is a tab\n",
        "separated list of translation pairs:\n",
        "\n",
        "::\n",
        "\n",
        "    I am cold.    J'ai froid.\n",
        "\n",
        ".. Note::\n",
        "   Download the data from\n",
        "   [here](https://download.pytorch.org/tutorial/data.zip)\n",
        "   and extract it to the current directory.\n",
        "\n"
      ]
    },
    {
      "cell_type": "markdown",
      "metadata": {},
      "source": [
        "Similar to the character encoding used in the character-level RNN\n",
        "tutorials, we will be representing each word in a language as a one-hot\n",
        "vector, or giant vector of zeros except for a single one (at the index\n",
        "of the word). Compared to the dozens of characters that might exist in a\n",
        "language, there are many many more words, so the encoding vector is much\n",
        "larger. We will however cheat a bit and trim the data to only use a few\n",
        "thousand words per language.\n",
        "\n",
        ".. figure:: /_static/img/seq-seq-images/word-encoding.png\n",
        "   :alt:\n",
        "\n",
        "\n",
        "\n"
      ]
    },
    {
      "cell_type": "markdown",
      "metadata": {},
      "source": [
        "We'll need a unique index per word to use as the inputs and targets of\n",
        "the networks later. To keep track of all this we will use a helper class\n",
        "called ``Lang`` which has word → index (``word2index``) and index → word\n",
        "(``index2word``) dictionaries, as well as a count of each word\n",
        "``word2count`` which will be used to replace rare words later.\n",
        "\n",
        "\n"
      ]
    },
    {
      "cell_type": "code",
      "execution_count": null,
      "metadata": {
        "collapsed": false
      },
      "outputs": [],
      "source": [
        "SOS_token = 0\n",
        "EOS_token = 1\n",
        "\n",
        "\n",
        "class Lang:\n",
        "    def __init__(self, name):\n",
        "        self.name = name\n",
        "        self.word2index = {}\n",
        "        self.word2count = {}\n",
        "        self.index2word = {0: \"SOS\", 1: \"EOS\"}\n",
        "        self.n_words = 2  # Count SOS and EOS\n",
        "\n",
        "    def addSentence(self, sentence):\n",
        "        for word in sentence.split(' '):\n",
        "            self.addWord(word)\n",
        "\n",
        "    def addWord(self, word):\n",
        "        if word not in self.word2index:\n",
        "            self.word2index[word] = self.n_words\n",
        "            self.word2count[word] = 1\n",
        "            self.index2word[self.n_words] = word\n",
        "            self.n_words += 1\n",
        "        else:\n",
        "            self.word2count[word] += 1"
      ]
    },
    {
      "cell_type": "markdown",
      "metadata": {},
      "source": [
        "The files are all in Unicode, to simplify we will turn Unicode\n",
        "characters to ASCII, make everything lowercase, and trim most\n",
        "punctuation.\n",
        "\n",
        "\n"
      ]
    },
    {
      "cell_type": "code",
      "execution_count": null,
      "metadata": {
        "collapsed": false
      },
      "outputs": [],
      "source": [
        "# Turn a Unicode string to plain ASCII, thanks to\n",
        "# https://stackoverflow.com/a/518232/2809427\n",
        "def unicodeToAscii(s):\n",
        "    return ''.join(\n",
        "        c for c in unicodedata.normalize('NFD', s)\n",
        "        if unicodedata.category(c) != 'Mn'\n",
        "    )\n",
        "\n",
        "# Lowercase, trim, and remove non-letter characters\n",
        "\n",
        "\n",
        "def normalizeString(s):\n",
        "    s = unicodeToAscii(s.lower().strip())\n",
        "    s = re.sub(r\"([.!?])\", r\" \\1\", s)\n",
        "    s = re.sub(r\"[^a-zA-Z.!?]+\", r\" \", s)\n",
        "    return s"
      ]
    },
    {
      "cell_type": "markdown",
      "metadata": {},
      "source": [
        "To read the data file we will split the file into lines, and then split\n",
        "lines into pairs. The files are all English → Other Language, so if we\n",
        "want to translate from Other Language → English I added the ``reverse``\n",
        "flag to reverse the pairs.\n",
        "\n",
        "\n"
      ]
    },
    {
      "cell_type": "code",
      "execution_count": null,
      "metadata": {
        "collapsed": false
      },
      "outputs": [],
      "source": [
        "def readLangs(lang1, lang2, reverse=False):\n",
        "    print(\"Reading lines...\")\n",
        "\n",
        "    # Read the file and split into lines\n",
        "    lines = open('data/%s-%s_1500.txt' % (lang1, lang2), encoding='utf-8').\\\n",
        "        read().strip().split('\\n')\n",
        "\n",
        "    # Split every line into pairs and normalize\n",
        "    pairs = [[normalizeString(s) for s in l.split('\\t')] for l in lines]\n",
        "\n",
        "    # Reverse pairs, make Lang instances\n",
        "    if reverse:\n",
        "        pairs = [list(reversed(p)) for p in pairs]\n",
        "        input_lang = Lang(lang2)\n",
        "        output_lang = Lang(lang1)\n",
        "    else:\n",
        "        input_lang = Lang(lang1)\n",
        "        output_lang = Lang(lang2)\n",
        "\n",
        "    return input_lang, output_lang, pairs"
      ]
    },
    {
      "cell_type": "markdown",
      "metadata": {},
      "source": [
        "Since there are a *lot* of example sentences and we want to train\n",
        "something quickly, we'll trim the data set to only relatively short and\n",
        "simple sentences. Here the maximum length is 10 words (that includes\n",
        "ending punctuation) and we're filtering to sentences that translate to\n",
        "the form \"I am\" or \"He is\" etc. (accounting for apostrophes replaced\n",
        "earlier).\n",
        "\n",
        "\n"
      ]
    },
    {
      "cell_type": "code",
      "execution_count": null,
      "metadata": {
        "collapsed": false
      },
      "outputs": [],
      "source": [
        "MAX_LENGTH = 1000\n",
        "\n",
        "eng_prefixes = (\n",
        "    \"i am \", \"i m \",\n",
        "    \"he is\", \"he s \",\n",
        "    \"she is\", \"she s \",\n",
        "    \"you are\", \"you re \",\n",
        "    \"we are\", \"we re \",\n",
        "    \"they are\", \"they re \"\n",
        ")\n",
        "\n",
        "\n",
        "def filterPair(p):\n",
        "    return len(p[0].split(' ')) < MAX_LENGTH and \\\n",
        "        len(p[1].split(' ')) < MAX_LENGTH and \\\n",
        "        p[1].startswith(eng_prefixes)\n",
        "\n",
        "\n",
        "def filterPairs(pairs):\n",
        "    return [pair for pair in pairs if filterPair(pair)]"
      ]
    },
    {
      "cell_type": "markdown",
      "metadata": {},
      "source": [
        "The full process for preparing the data is:\n",
        "\n",
        "-  Read text file and split into lines, split lines into pairs\n",
        "-  Normalize text, filter by length and content\n",
        "-  Make word lists from sentences in pairs\n",
        "\n",
        "\n"
      ]
    },
    {
      "cell_type": "code",
      "execution_count": null,
      "metadata": {},
      "outputs": [
        {
          "name": "stdout",
          "output_type": "stream",
          "text": [
            "Reading lines...\n",
            "Read 1501 sentence pairs\n",
            "Counting words...\n",
            "Counted words:\n",
            "steps 1635\n",
            "names 4484\n",
            "[' layer dreamy chocolate mousse cake paula deen', 'preheat oven to step grease and flour square or round cake pans step in a large bowl combine flour sugar cocoa baking powder baking soda and salt step add mik coffee oil and eggs step beat at medium speed with an electric mixer until smooth step pour evenly into prepared pans and bake for to minutes or until a wooden pick inserted in center comes out clean step let cool in pans for minutes remove from pans and let cool completely on wire racks step using a serrated knife cut cake layers in half horizontally to make layers step place layer cut side up on a cake plate spread with one fifth of dreamy chocolate mousse step repeat procedure with remaining cake layers and mousse step freeze cake for hour step spread chocolate fudge frosting evenly over top and sides of cake step garnish sides of cake with grated chocolate step garnish top of cake with chocolate curls if desired step mousse step in a small bowl soften gelatin in tablespoons cold water step let stand for minutes step add boiling water stirring until gelatin dissolves step set aside step in a small bowl combine sugar and cocoa powder step in a medium bowl beat cream at medium speed with an electric mixer until foamy step gradually add sugar mixture beating until stiff peaks form step stir in gelatin mixture step cover and chill for hours step chocolate fudge frosting step in a medium saucepan combine sugar and cream step bring to a boil over medium high heat step reduce heat and simmer for minutes stirring frequently step remove from heat step add chocolate and butter stirring until melted and smooth step let cool for minutes step whisk in confectioner s sugar step let mixture cool until it reaches a spreadable consistency end ']\n"
          ]
        }
      ],
      "source": [
        "def prepareData(lang1, lang2, reverse=False):\n",
        "    input_lang, output_lang, pairs = readLangs(lang1, lang2, reverse)\n",
        "    print(\"Read %s sentence pairs\" % len(pairs))\n",
        "   \n",
        "    print(\"Counting words...\")\n",
        "    for pair in pairs:\n",
        "        input_lang.addSentence(pair[0])\n",
        "        output_lang.addSentence(pair[1])\n",
        "    print(\"Counted words:\")\n",
        "    print(input_lang.name, input_lang.n_words)\n",
        "    print(output_lang.name, output_lang.n_words)\n",
        "    return input_lang, output_lang, pairs\n",
        "\n",
        "\n",
        "input_lang, output_lang, pairs = prepareData('names', 'steps', True)\n",
        "print(random.choice(pairs))"
      ]
    },
    {
      "cell_type": "code",
      "execution_count": null,
      "metadata": {
        "collapsed": false
      },
      "outputs": [],
      "source": [
        "# def prepareData(lang1, lang2, reverse=False):\n",
        "#     input_lang, output_lang, pairs = readLangs(lang1, lang2, reverse)\n",
        "#     print(\"Read %s sentence pairs\" % len(pairs))\n",
        "#     pairs = filterPairs(pairs)\n",
        "#     print(\"Trimmed to %s sentence pairs\" % len(pairs))\n",
        "#     print(\"Counting words...\")\n",
        "#     for pair in pairs:\n",
        "#         input_lang.addSentence(pair[0])\n",
        "#         output_lang.addSentence(pair[1])\n",
        "#     print(\"Counted words:\")\n",
        "#     print(input_lang.name, input_lang.n_words)\n",
        "#     print(output_lang.name, output_lang.n_words)\n",
        "#     return input_lang, output_lang, pairs\n",
        "\n",
        "\n",
        "# input_lang, output_lang, pairs = prepareData('eng', 'fra', True)\n",
        "# print(random.choice(pairs))"
      ]
    },
    {
      "cell_type": "markdown",
      "metadata": {},
      "source": [
        "## The Seq2Seq Model\n",
        "\n",
        "A Recurrent Neural Network, or RNN, is a network that operates on a\n",
        "sequence and uses its own output as input for subsequent steps.\n",
        "\n",
        "A [Sequence to Sequence network](https://arxiv.org/abs/1409.3215)_, or\n",
        "seq2seq network, or [Encoder Decoder\n",
        "network](https://arxiv.org/pdf/1406.1078v3.pdf)_, is a model\n",
        "consisting of two RNNs called the encoder and decoder. The encoder reads\n",
        "an input sequence and outputs a single vector, and the decoder reads\n",
        "that vector to produce an output sequence.\n",
        "\n",
        ".. figure:: /_static/img/seq-seq-images/seq2seq.png\n",
        "   :alt:\n",
        "\n",
        "Unlike sequence prediction with a single RNN, where every input\n",
        "corresponds to an output, the seq2seq model frees us from sequence\n",
        "length and order, which makes it ideal for translation between two\n",
        "languages.\n",
        "\n",
        "Consider the sentence \"Je ne suis pas le chat noir\" → \"I am not the\n",
        "black cat\". Most of the words in the input sentence have a direct\n",
        "translation in the output sentence, but are in slightly different\n",
        "orders, e.g. \"chat noir\" and \"black cat\". Because of the \"ne/pas\"\n",
        "construction there is also one more word in the input sentence. It would\n",
        "be difficult to produce a correct translation directly from the sequence\n",
        "of input words.\n",
        "\n",
        "With a seq2seq model the encoder creates a single vector which, in the\n",
        "ideal case, encodes the \"meaning\" of the input sequence into a single\n",
        "vector — a single point in some N dimensional space of sentences.\n",
        "\n",
        "\n"
      ]
    },
    {
      "cell_type": "markdown",
      "metadata": {},
      "source": [
        "### The Encoder\n",
        "\n",
        "The encoder of a seq2seq network is a RNN that outputs some value for\n",
        "every word from the input sentence. For every input word the encoder\n",
        "outputs a vector and a hidden state, and uses the hidden state for the\n",
        "next input word.\n",
        "\n",
        ".. figure:: /_static/img/seq-seq-images/encoder-network.png\n",
        "   :alt:\n",
        "\n",
        "\n",
        "\n"
      ]
    },
    {
      "cell_type": "code",
      "execution_count": null,
      "metadata": {
        "collapsed": false
      },
      "outputs": [],
      "source": [
        "class EncoderRNN(nn.Module):\n",
        "    def __init__(self, input_size, hidden_size):\n",
        "        super(EncoderRNN, self).__init__()\n",
        "        self.hidden_size = hidden_size\n",
        "\n",
        "        self.embedding = nn.Embedding(input_size, hidden_size)\n",
        "        self.gru = nn.GRU(hidden_size, hidden_size)\n",
        "\n",
        "    def forward(self, input, hidden):\n",
        "        embedded = self.embedding(input).view(1, 1, -1)\n",
        "        output = embedded\n",
        "        output, hidden = self.gru(output, hidden)\n",
        "        return output, hidden\n",
        "\n",
        "    def initHidden(self):\n",
        "        return torch.zeros(1, 1, self.hidden_size, device=device)"
      ]
    },
    {
      "cell_type": "markdown",
      "metadata": {},
      "source": [
        "### The Decoder\n",
        "\n",
        "The decoder is another RNN that takes the encoder output vector(s) and\n",
        "outputs a sequence of words to create the translation.\n",
        "\n",
        "\n"
      ]
    },
    {
      "cell_type": "markdown",
      "metadata": {},
      "source": [
        "#### Simple Decoder\n",
        "\n",
        "In the simplest seq2seq decoder we use only last output of the encoder.\n",
        "This last output is sometimes called the *context vector* as it encodes\n",
        "context from the entire sequence. This context vector is used as the\n",
        "initial hidden state of the decoder.\n",
        "\n",
        "At every step of decoding, the decoder is given an input token and\n",
        "hidden state. The initial input token is the start-of-string ``<SOS>``\n",
        "token, and the first hidden state is the context vector (the encoder's\n",
        "last hidden state).\n",
        "\n",
        ".. figure:: /_static/img/seq-seq-images/decoder-network.png\n",
        "   :alt:\n",
        "\n",
        "\n",
        "\n"
      ]
    },
    {
      "cell_type": "code",
      "execution_count": null,
      "metadata": {
        "collapsed": false
      },
      "outputs": [],
      "source": [
        "class DecoderRNN(nn.Module):\n",
        "    def __init__(self, hidden_size, output_size):\n",
        "        super(DecoderRNN, self).__init__()\n",
        "        self.hidden_size = hidden_size\n",
        "\n",
        "        self.embedding = nn.Embedding(output_size, hidden_size)\n",
        "        self.gru = nn.GRU(hidden_size, hidden_size)\n",
        "        self.out = nn.Linear(hidden_size, output_size)\n",
        "        self.softmax = nn.LogSoftmax(dim=1)\n",
        "\n",
        "    def forward(self, input, hidden):\n",
        "        output = self.embedding(input).view(1, 1, -1)\n",
        "        output = F.relu(output)\n",
        "        output, hidden = self.gru(output, hidden)\n",
        "        output = self.softmax(self.out(output[0]))\n",
        "        return output, hidden\n",
        "\n",
        "    def initHidden(self):\n",
        "        return torch.zeros(1, 1, self.hidden_size, device=device)"
      ]
    },
    {
      "cell_type": "markdown",
      "metadata": {},
      "source": [
        "I encourage you to train and observe the results of this model, but to\n",
        "save space we'll be going straight for the gold and introducing the\n",
        "Attention Mechanism.\n",
        "\n",
        "\n"
      ]
    },
    {
      "cell_type": "markdown",
      "metadata": {},
      "source": [
        "#### Attention Decoder\n",
        "\n",
        "If only the context vector is passed between the encoder and decoder,\n",
        "that single vector carries the burden of encoding the entire sentence.\n",
        "\n",
        "Attention allows the decoder network to \"focus\" on a different part of\n",
        "the encoder's outputs for every step of the decoder's own outputs. First\n",
        "we calculate a set of *attention weights*. These will be multiplied by\n",
        "the encoder output vectors to create a weighted combination. The result\n",
        "(called ``attn_applied`` in the code) should contain information about\n",
        "that specific part of the input sequence, and thus help the decoder\n",
        "choose the right output words.\n",
        "\n",
        ".. figure:: https://i.imgur.com/1152PYf.png\n",
        "   :alt:\n",
        "\n",
        "Calculating the attention weights is done with another feed-forward\n",
        "layer ``attn``, using the decoder's input and hidden state as inputs.\n",
        "Because there are sentences of all sizes in the training data, to\n",
        "actually create and train this layer we have to choose a maximum\n",
        "sentence length (input length, for encoder outputs) that it can apply\n",
        "to. Sentences of the maximum length will use all the attention weights,\n",
        "while shorter sentences will only use the first few.\n",
        "\n",
        ".. figure:: /_static/img/seq-seq-images/attention-decoder-network.png\n",
        "   :alt:\n",
        "\n",
        "\n",
        "\n"
      ]
    },
    {
      "cell_type": "code",
      "execution_count": null,
      "metadata": {
        "collapsed": false
      },
      "outputs": [],
      "source": [
        "class AttnDecoderRNN(nn.Module):\n",
        "    def __init__(self, hidden_size, output_size, dropout_p=0.1, max_length=MAX_LENGTH):\n",
        "        super(AttnDecoderRNN, self).__init__()\n",
        "        self.hidden_size = hidden_size\n",
        "        self.output_size = output_size\n",
        "        self.dropout_p = dropout_p\n",
        "        self.max_length = max_length\n",
        "\n",
        "        self.embedding = nn.Embedding(self.output_size, self.hidden_size)\n",
        "        self.attn = nn.Linear(self.hidden_size * 2, self.max_length)\n",
        "        self.attn_combine = nn.Linear(self.hidden_size * 2, self.hidden_size)\n",
        "        self.dropout = nn.Dropout(self.dropout_p)\n",
        "        self.gru = nn.GRU(self.hidden_size, self.hidden_size)\n",
        "        self.out = nn.Linear(self.hidden_size, self.output_size)\n",
        "\n",
        "    def forward(self, input, hidden, encoder_outputs):\n",
        "        embedded = self.embedding(input).view(1, 1, -1)\n",
        "        embedded = self.dropout(embedded)\n",
        "\n",
        "        attn_weights = F.softmax(\n",
        "            self.attn(torch.cat((embedded[0], hidden[0]), 1)), dim=1)\n",
        "        attn_applied = torch.bmm(attn_weights.unsqueeze(0),\n",
        "                                 encoder_outputs.unsqueeze(0))\n",
        "\n",
        "        output = torch.cat((embedded[0], attn_applied[0]), 1)\n",
        "        output = self.attn_combine(output).unsqueeze(0)\n",
        "\n",
        "        output = F.relu(output)\n",
        "        output, hidden = self.gru(output, hidden)\n",
        "\n",
        "        output = F.log_softmax(self.out(output[0]), dim=1)\n",
        "        return output, hidden, attn_weights\n",
        "\n",
        "    def initHidden(self):\n",
        "        return torch.zeros(1, 1, self.hidden_size, device=device)"
      ]
    },
    {
      "cell_type": "markdown",
      "metadata": {},
      "source": [
        "<div class=\"alert alert-info\"><h4>Note</h4><p>There are other forms of attention that work around the length\n",
        "  limitation by using a relative position approach. Read about \"local\n",
        "  attention\" in [Effective Approaches to Attention-based Neural Machine\n",
        "  Translation](https://arxiv.org/abs/1508.04025)_.</p></div>\n",
        "\n",
        "## Training\n",
        "\n",
        "### Preparing Training Data\n",
        "\n",
        "To train, for each pair we will need an input tensor (indexes of the\n",
        "words in the input sentence) and target tensor (indexes of the words in\n",
        "the target sentence). While creating these vectors we will append the\n",
        "EOS token to both sequences.\n",
        "\n",
        "\n"
      ]
    },
    {
      "cell_type": "code",
      "execution_count": null,
      "metadata": {
        "collapsed": false
      },
      "outputs": [],
      "source": [
        "def indexesFromSentence(lang, sentence):\n",
        "    return [lang.word2index[word] for word in sentence.split(' ')]\n",
        "\n",
        "\n",
        "def tensorFromSentence(lang, sentence):\n",
        "    indexes = indexesFromSentence(lang, sentence)\n",
        "    indexes.append(EOS_token)\n",
        "    return torch.tensor(indexes, dtype=torch.long, device=device).view(-1, 1)\n",
        "\n",
        "\n",
        "def tensorsFromPair(pair):\n",
        "    input_tensor = tensorFromSentence(input_lang, pair[0])\n",
        "    target_tensor = tensorFromSentence(output_lang, pair[1])\n",
        "    return (input_tensor, target_tensor)"
      ]
    },
    {
      "cell_type": "markdown",
      "metadata": {},
      "source": [
        "### Training the Model\n",
        "\n",
        "To train we run the input sentence through the encoder, and keep track\n",
        "of every output and the latest hidden state. Then the decoder is given\n",
        "the ``<SOS>`` token as its first input, and the last hidden state of the\n",
        "encoder as its first hidden state.\n",
        "\n",
        "\"Teacher forcing\" is the concept of using the real target outputs as\n",
        "each next input, instead of using the decoder's guess as the next input.\n",
        "Using teacher forcing causes it to converge faster but [when the trained\n",
        "network is exploited, it may exhibit\n",
        "instability](http://citeseerx.ist.psu.edu/viewdoc/download?doi=10.1.1.378.4095&rep=rep1&type=pdf)_.\n",
        "\n",
        "You can observe outputs of teacher-forced networks that read with\n",
        "coherent grammar but wander far from the correct translation -\n",
        "intuitively it has learned to represent the output grammar and can \"pick\n",
        "up\" the meaning once the teacher tells it the first few words, but it\n",
        "has not properly learned how to create the sentence from the translation\n",
        "in the first place.\n",
        "\n",
        "Because of the freedom PyTorch's autograd gives us, we can randomly\n",
        "choose to use teacher forcing or not with a simple if statement. Turn\n",
        "``teacher_forcing_ratio`` up to use more of it.\n",
        "\n",
        "\n"
      ]
    },
    {
      "cell_type": "code",
      "execution_count": null,
      "metadata": {
        "collapsed": false
      },
      "outputs": [],
      "source": [
        "teacher_forcing_ratio = 0.5\n",
        "\n",
        "\n",
        "def train(input_tensor, target_tensor, encoder, decoder, encoder_optimizer, decoder_optimizer, criterion, max_length=MAX_LENGTH):\n",
        "    encoder_hidden = encoder.initHidden()\n",
        "\n",
        "    encoder_optimizer.zero_grad()\n",
        "    decoder_optimizer.zero_grad()\n",
        "\n",
        "    input_length = input_tensor.size(0)\n",
        "    target_length = target_tensor.size(0)\n",
        "\n",
        "    encoder_outputs = torch.zeros(max_length, encoder.hidden_size, device=device)\n",
        "\n",
        "    loss = 0\n",
        "\n",
        "    for ei in range(input_length):\n",
        "        encoder_output, encoder_hidden = encoder(\n",
        "            input_tensor[ei], encoder_hidden)\n",
        "        encoder_outputs[ei] = encoder_output[0, 0]\n",
        "\n",
        "    decoder_input = torch.tensor([[SOS_token]], device=device)\n",
        "\n",
        "    decoder_hidden = encoder_hidden\n",
        "\n",
        "    use_teacher_forcing = True if random.random() < teacher_forcing_ratio else False\n",
        "\n",
        "    if use_teacher_forcing:\n",
        "        # Teacher forcing: Feed the target as the next input\n",
        "        for di in range(target_length):\n",
        "            decoder_output, decoder_hidden, decoder_attention = decoder(\n",
        "                decoder_input, decoder_hidden, encoder_outputs)\n",
        "            loss += criterion(decoder_output, target_tensor[di])\n",
        "            decoder_input = target_tensor[di]  # Teacher forcing\n",
        "\n",
        "    else:\n",
        "        # Without teacher forcing: use its own predictions as the next input\n",
        "        for di in range(target_length):\n",
        "            decoder_output, decoder_hidden, decoder_attention = decoder(\n",
        "                decoder_input, decoder_hidden, encoder_outputs)\n",
        "            topv, topi = decoder_output.topk(1)\n",
        "            decoder_input = topi.squeeze().detach()  # detach from history as input\n",
        "\n",
        "            loss += criterion(decoder_output, target_tensor[di])\n",
        "            if decoder_input.item() == EOS_token:\n",
        "                break\n",
        "\n",
        "    loss.backward()\n",
        "\n",
        "    encoder_optimizer.step()\n",
        "    decoder_optimizer.step()\n",
        "\n",
        "    return loss.item() / target_length"
      ]
    },
    {
      "cell_type": "markdown",
      "metadata": {},
      "source": [
        "This is a helper function to print time elapsed and estimated time\n",
        "remaining given the current time and progress %.\n",
        "\n",
        "\n"
      ]
    },
    {
      "cell_type": "code",
      "execution_count": null,
      "metadata": {
        "collapsed": false
      },
      "outputs": [],
      "source": [
        "import time\n",
        "import math\n",
        "\n",
        "\n",
        "def asMinutes(s):\n",
        "    m = math.floor(s / 60)\n",
        "    s -= m * 60\n",
        "    return '%dm %ds' % (m, s)\n",
        "\n",
        "\n",
        "def timeSince(since, percent):\n",
        "    now = time.time()\n",
        "    s = now - since\n",
        "    es = s / (percent)\n",
        "    rs = es - s\n",
        "    return '%s (- %s)' % (asMinutes(s), asMinutes(rs))"
      ]
    },
    {
      "cell_type": "markdown",
      "metadata": {},
      "source": [
        "The whole training process looks like this:\n",
        "\n",
        "-  Start a timer\n",
        "-  Initialize optimizers and criterion\n",
        "-  Create set of training pairs\n",
        "-  Start empty losses array for plotting\n",
        "\n",
        "Then we call ``train`` many times and occasionally print the progress (%\n",
        "of examples, time so far, estimated time) and average loss.\n",
        "\n",
        "\n"
      ]
    },
    {
      "cell_type": "code",
      "execution_count": null,
      "metadata": {
        "collapsed": false
      },
      "outputs": [],
      "source": [
        "import matplotlib.pyplot as plt\n",
        "plt.switch_backend('agg')\n",
        "import matplotlib.ticker as ticker\n",
        "import numpy as np\n",
        "\n",
        "\n",
        "def showPlot(points):\n",
        "    plt.figure()\n",
        "    fig, ax = plt.subplots()\n",
        "    # this locator puts ticks at regular intervals\n",
        "    loc = ticker.MultipleLocator(base=0.2)\n",
        "    ax.yaxis.set_major_locator(loc)\n",
        "    plt.plot(points)\n",
        "\n",
        "def trainIters(encoder, decoder, n_iters, print_every=1000, plot_every=100, learning_rate=0.01):\n",
        "    start = time.time()\n",
        "    plot_losses = []\n",
        "    print_loss_total = 0  # Reset every print_every\n",
        "    plot_loss_total = 0  # Reset every plot_every\n",
        "\n",
        "    encoder_optimizer = optim.SGD(encoder.parameters(), lr=learning_rate)\n",
        "    decoder_optimizer = optim.SGD(decoder.parameters(), lr=learning_rate)\n",
        "    training_pairs = [tensorsFromPair(random.choice(pairs))\n",
        "                      for i in range(n_iters)]\n",
        "    criterion = nn.NLLLoss()\n",
        "\n",
        "    for iter in range(1, n_iters + 1):\n",
        "        training_pair = training_pairs[iter - 1]\n",
        "        input_tensor = training_pair[0]\n",
        "        target_tensor = training_pair[1]\n",
        "\n",
        "        loss = train(input_tensor, target_tensor, encoder,\n",
        "                     decoder, encoder_optimizer, decoder_optimizer, criterion)\n",
        "        print_loss_total += loss\n",
        "        plot_loss_total += loss\n",
        "\n",
        "        if iter % print_every == 0:\n",
        "            print_loss_avg = print_loss_total / print_every\n",
        "            print_loss_total = 0\n",
        "            print('%s (%d %d%%) %.4f' % (timeSince(start, iter / n_iters),\n",
        "                                         iter, iter / n_iters * 100, print_loss_avg))\n",
        "\n",
        "        if iter % plot_every == 0:\n",
        "            plot_loss_avg = plot_loss_total / plot_every\n",
        "            plot_losses.append(plot_loss_avg)\n",
        "            plot_loss_total = 0\n",
        "\n",
        "    showPlot(plot_losses)"
      ]
    },
    {
      "cell_type": "markdown",
      "metadata": {},
      "source": [
        "### Plotting results\n",
        "\n",
        "Plotting is done with matplotlib, using the array of loss values\n",
        "``plot_losses`` saved while training.\n",
        "\n",
        "\n"
      ]
    },
    {
      "cell_type": "code",
      "execution_count": null,
      "metadata": {
        "collapsed": false
      },
      "outputs": [],
      "source": [
        "import matplotlib.pyplot as plt\n",
        "plt.switch_backend('agg')\n",
        "import matplotlib.ticker as ticker\n",
        "import numpy as np\n",
        "\n",
        "\n",
        "def showPlot(points):\n",
        "    plt.figure()\n",
        "    fig, ax = plt.subplots()\n",
        "    # this locator puts ticks at regular intervals\n",
        "    loc = ticker.MultipleLocator(base=0.2)\n",
        "    ax.yaxis.set_major_locator(loc)\n",
        "    plt.plot(points)"
      ]
    },
    {
      "cell_type": "markdown",
      "metadata": {},
      "source": [
        "## Evaluation\n",
        "\n",
        "Evaluation is mostly the same as training, but there are no targets so\n",
        "we simply feed the decoder's predictions back to itself for each step.\n",
        "Every time it predicts a word we add it to the output string, and if it\n",
        "predicts the EOS token we stop there. We also store the decoder's\n",
        "attention outputs for display later.\n",
        "\n",
        "\n"
      ]
    },
    {
      "cell_type": "code",
      "execution_count": null,
      "metadata": {
        "collapsed": false
      },
      "outputs": [],
      "source": [
        "def evaluate(encoder, decoder, sentence, max_length=MAX_LENGTH):\n",
        "    with torch.no_grad():\n",
        "        input_tensor = tensorFromSentence(input_lang, sentence)\n",
        "        input_length = input_tensor.size()[0]\n",
        "        encoder_hidden = encoder.initHidden()\n",
        "\n",
        "        encoder_outputs = torch.zeros(max_length, encoder.hidden_size, device=device)\n",
        "\n",
        "        for ei in range(input_length):\n",
        "            encoder_output, encoder_hidden = encoder(input_tensor[ei],\n",
        "                                                     encoder_hidden)\n",
        "            encoder_outputs[ei] += encoder_output[0, 0]\n",
        "\n",
        "        decoder_input = torch.tensor([[SOS_token]], device=device)  # SOS\n",
        "\n",
        "        decoder_hidden = encoder_hidden\n",
        "\n",
        "        decoded_words = []\n",
        "        decoder_attentions = torch.zeros(max_length, max_length)\n",
        "\n",
        "        for di in range(max_length):\n",
        "            decoder_output, decoder_hidden, decoder_attention = decoder(\n",
        "                decoder_input, decoder_hidden, encoder_outputs)\n",
        "            decoder_attentions[di] = decoder_attention.data\n",
        "            topv, topi = decoder_output.data.topk(1)\n",
        "            if topi.item() == EOS_token:\n",
        "                decoded_words.append('<EOS>')\n",
        "                break\n",
        "            else:\n",
        "                decoded_words.append(output_lang.index2word[topi.item()])\n",
        "\n",
        "            decoder_input = topi.squeeze().detach()\n",
        "\n",
        "        return decoded_words, decoder_attentions[:di + 1]"
      ]
    },
    {
      "cell_type": "markdown",
      "metadata": {},
      "source": [
        "We can evaluate random sentences from the training set and print out the\n",
        "input, target, and output to make some subjective quality judgements:\n",
        "\n",
        "\n"
      ]
    },
    {
      "cell_type": "code",
      "execution_count": null,
      "metadata": {
        "collapsed": false
      },
      "outputs": [],
      "source": [
        "def evaluateRandomly(encoder, decoder, n=10):\n",
        "    for i in range(n):\n",
        "        pair = random.choice(pairs)\n",
        "        print('>', pair[0])\n",
        "        print('=', pair[1])\n",
        "        output_words, attentions = evaluate(encoder, decoder, pair[0])\n",
        "        output_sentence = ' '.join(output_words)\n",
        "        print('<', output_sentence)\n",
        "        print('')"
      ]
    },
    {
      "cell_type": "markdown",
      "metadata": {},
      "source": [
        "## Training and Evaluating\n",
        "\n",
        "With all these helper functions in place (it looks like extra work, but\n",
        "it makes it easier to run multiple experiments) we can actually\n",
        "initialize a network and start training.\n",
        "\n",
        "Remember that the input sentences were heavily filtered. For this small\n",
        "dataset we can use relatively small networks of 256 hidden nodes and a\n",
        "single GRU layer. After about 40 minutes on a MacBook CPU we'll get some\n",
        "reasonable results.\n",
        "\n",
        ".. Note::\n",
        "   If you run this notebook you can train, interrupt the kernel,\n",
        "   evaluate, and continue training later. Comment out the lines where the\n",
        "   encoder and decoder are initialized and run ``trainIters`` again.\n",
        "\n",
        "\n"
      ]
    },
    {
      "cell_type": "code",
      "execution_count": null,
      "metadata": {
        "collapsed": false
      },
      "outputs": [
        {
          "name": "stdout",
          "output_type": "stream",
          "text": [
            "0m 2s (- 4m 25s) (1 1%) 8.3987\n",
            "0m 3s (- 3m 15s) (2 2%) 8.3034\n",
            "0m 6s (- 3m 34s) (3 3%) 8.1824\n",
            "0m 8s (- 3m 28s) (4 4%) 7.7557\n",
            "0m 11s (- 3m 30s) (5 5%) 10.4162\n",
            "0m 12s (- 3m 15s) (6 6%) 11.3254\n",
            "0m 15s (- 3m 19s) (7 7%) 57.9014\n",
            "0m 15s (- 2m 59s) (8 8%) 10.2843\n",
            "0m 16s (- 2m 49s) (9 9%) 13.3485\n",
            "0m 18s (- 2m 49s) (10 10%) 12.0817\n",
            "0m 19s (- 2m 36s) (11 11%) 10.8714\n",
            "0m 20s (- 2m 28s) (12 12%) 11.5343\n",
            "0m 21s (- 2m 27s) (13 13%) 9.5941\n",
            "0m 23s (- 2m 26s) (14 14%) 20.6600\n",
            "0m 24s (- 2m 18s) (15 15%) 16.2801\n",
            "0m 25s (- 2m 16s) (16 16%) 14.8327\n",
            "0m 26s (- 2m 11s) (17 17%) 11.9232\n",
            "0m 28s (- 2m 10s) (18 18%) 11.1697\n",
            "0m 29s (- 2m 7s) (19 19%) 14.5708\n",
            "0m 31s (- 2m 6s) (20 20%) 12.4228\n",
            "0m 33s (- 2m 4s) (21 21%) 10.0086\n",
            "0m 34s (- 2m 1s) (22 22%) 7.4547\n",
            "0m 35s (- 1m 59s) (23 23%) 7.8637\n",
            "0m 37s (- 1m 58s) (24 24%) 9.1884\n",
            "0m 38s (- 1m 55s) (25 25%) 9.4082\n",
            "0m 41s (- 1m 57s) (26 26%) 9.6677\n",
            "0m 42s (- 1m 53s) (27 27%) 21.1727\n",
            "0m 43s (- 1m 52s) (28 28%) 24.0133\n",
            "0m 44s (- 1m 49s) (29 28%) 21.1859\n",
            "0m 47s (- 1m 50s) (30 30%) 33.2247\n",
            "0m 49s (- 1m 49s) (31 31%) 28.4836\n",
            "0m 50s (- 1m 47s) (32 32%) 39.3546\n",
            "0m 51s (- 1m 45s) (33 33%) 23.5418\n",
            "0m 52s (- 1m 41s) (34 34%) 25.8129\n",
            "0m 53s (- 1m 38s) (35 35%) 26.2922\n",
            "0m 54s (- 1m 36s) (36 36%) 26.5275\n",
            "0m 55s (- 1m 34s) (37 37%) 34.5036\n",
            "0m 56s (- 1m 31s) (38 38%) 28.4542\n",
            "0m 58s (- 1m 30s) (39 39%) 25.4730\n",
            "1m 0s (- 1m 30s) (40 40%) 22.0455\n",
            "1m 0s (- 1m 27s) (41 41%) 31.7299\n",
            "1m 1s (- 1m 25s) (42 42%) 4.2283\n",
            "1m 3s (- 1m 24s) (43 43%) 25.2559\n",
            "1m 5s (- 1m 23s) (44 44%) 23.2668\n",
            "1m 6s (- 1m 21s) (45 45%) 21.7034\n",
            "1m 7s (- 1m 19s) (46 46%) 20.6927\n",
            "1m 9s (- 1m 18s) (47 47%) 19.4836\n",
            "1m 10s (- 1m 16s) (48 48%) 21.4355\n",
            "1m 13s (- 1m 16s) (49 49%) 20.2419\n",
            "1m 13s (- 1m 13s) (50 50%) 15.5216\n",
            "1m 15s (- 1m 12s) (51 51%) 11.8181\n",
            "1m 16s (- 1m 11s) (52 52%) 39.0535\n",
            "1m 19s (- 1m 10s) (53 53%) 23.5876\n",
            "1m 20s (- 1m 8s) (54 54%) 26.7506\n",
            "1m 21s (- 1m 6s) (55 55%) 43.3123\n",
            "1m 24s (- 1m 6s) (56 56%) 28.0087\n",
            "1m 28s (- 1m 7s) (57 56%) 20.7283\n",
            "1m 31s (- 1m 6s) (58 57%) 35.3645\n",
            "1m 31s (- 1m 3s) (59 59%) 42.6956\n",
            "1m 32s (- 1m 1s) (60 60%) 35.4842\n",
            "1m 33s (- 0m 59s) (61 61%) 46.7841\n",
            "1m 33s (- 0m 57s) (62 62%) 2.2242\n",
            "1m 35s (- 0m 56s) (63 63%) 33.4587\n",
            "1m 39s (- 0m 56s) (64 64%) 30.8565\n",
            "1m 42s (- 0m 55s) (65 65%) 38.1056\n",
            "1m 46s (- 0m 54s) (66 66%) 34.7766\n",
            "1m 48s (- 0m 53s) (67 67%) 45.5441\n",
            "1m 50s (- 0m 51s) (68 68%) 43.7368\n",
            "1m 51s (- 0m 50s) (69 69%) 27.5674\n",
            "1m 53s (- 0m 48s) (70 70%) 28.4619\n",
            "1m 54s (- 0m 46s) (71 71%) 30.2469\n",
            "1m 56s (- 0m 45s) (72 72%) 48.5273\n",
            "1m 57s (- 0m 43s) (73 73%) 45.8696\n",
            "1m 59s (- 0m 41s) (74 74%) 37.6963\n",
            "1m 59s (- 0m 39s) (75 75%) 1.6172\n",
            "2m 0s (- 0m 38s) (76 76%) 31.1124\n",
            "2m 1s (- 0m 36s) (77 77%) 38.5018\n",
            "2m 3s (- 0m 34s) (78 78%) 39.8427\n",
            "2m 4s (- 0m 33s) (79 79%) 33.4481\n",
            "2m 9s (- 0m 32s) (80 80%) 23.0128\n",
            "2m 10s (- 0m 30s) (81 81%) 45.3505\n",
            "2m 11s (- 0m 28s) (82 82%) 22.5095\n",
            "2m 12s (- 0m 27s) (83 83%) 20.3547\n",
            "2m 14s (- 0m 25s) (84 84%) 30.2949\n",
            "2m 15s (- 0m 23s) (85 85%) 27.8638\n",
            "2m 17s (- 0m 22s) (86 86%) 21.8693\n",
            "2m 19s (- 0m 20s) (87 87%) 37.6959\n",
            "2m 20s (- 0m 19s) (88 88%) 32.5795\n",
            "2m 22s (- 0m 17s) (89 89%) 35.4511\n",
            "2m 23s (- 0m 15s) (90 90%) 38.9625\n",
            "2m 24s (- 0m 14s) (91 91%) 35.7214\n",
            "2m 27s (- 0m 12s) (92 92%) 28.7570\n",
            "2m 28s (- 0m 11s) (93 93%) 30.7163\n",
            "2m 33s (- 0m 9s) (94 94%) 34.5190\n",
            "2m 35s (- 0m 8s) (95 95%) 34.7042\n",
            "2m 36s (- 0m 6s) (96 96%) 35.0443\n",
            "2m 39s (- 0m 4s) (97 97%) 35.9391\n",
            "2m 41s (- 0m 3s) (98 98%) 32.0168\n",
            "2m 46s (- 0m 1s) (99 99%) 43.0713\n",
            "2m 48s (- 0m 0s) (100 100%) 39.2740\n"
          ]
        }
      ],
      "source": [
        "hidden_size = 256\n",
        "encoder1 = EncoderRNN(input_lang.n_words, hidden_size).to(device)\n",
        "attn_decoder1 = AttnDecoderRNN(hidden_size, output_lang.n_words, dropout_p=0.1).to(device)\n",
        "\n",
        "trainIters(encoder1, attn_decoder1, 100, print_every=1)"
      ]
    },
    {
      "cell_type": "code",
      "execution_count": null,
      "metadata": {
        "collapsed": false
      },
      "outputs": [
        {
          "name": "stdout",
          "output_type": "stream",
          "text": [
            "> one pot dinner\n",
            "= brwon ground beef in skillet drain off fat and put in crock pot step cut bacon in small pieces step fry bacon and onions till brown step drain off fat step add bacon onions and remaining ingredients to crock pot step stir together well step cover and cook on low for to hours step if using the quart crock pot reduce this recipe by half end \n",
            "< the potatoes potatoes potatoes potatoes potatoes potatoes potatoes potatoes potatoes potatoes potatoes potatoes potatoes potatoes potatoes potatoes potatoes potatoes potatoes potatoes potatoes potatoes potatoes potatoes potatoes potatoes potatoes potatoes potatoes potatoes potatoes potatoes potatoes potatoes potatoes potatoes potatoes potatoes potatoes potatoes potatoes potatoes potatoes potatoes potatoes potatoes potatoes potatoes potatoes potatoes potatoes potatoes potatoes potatoes potatoes potatoes potatoes potatoes potatoes potatoes potatoes potatoes potatoes potatoes potatoes potatoes potatoes potatoes potatoes potatoes potatoes potatoes potatoes potatoes potatoes potatoes potatoes potatoes potatoes potatoes potatoes potatoes potatoes potatoes potatoes potatoes potatoes potatoes potatoes potatoes potatoes potatoes potatoes potatoes potatoes potatoes potatoes potatoes potatoes potatoes potatoes potatoes potatoes potatoes potatoes potatoes potatoes potatoes potatoes potatoes potatoes potatoes potatoes potatoes potatoes the potatoes potatoes potatoes potatoes potatoes potatoes potatoes potatoes potatoes potatoes potatoes potatoes potatoes potatoes potatoes potatoes potatoes potatoes potatoes potatoes potatoes potatoes potatoes potatoes potatoes potatoes potatoes potatoes potatoes potatoes potatoes potatoes potatoes potatoes potatoes potatoes potatoes potatoes potatoes potatoes potatoes potatoes potatoes potatoes potatoes potatoes potatoes potatoes potatoes potatoes potatoes potatoes potatoes potatoes potatoes potatoes potatoes potatoes potatoes potatoes potatoes potatoes potatoes potatoes potatoes potatoes potatoes potatoes potatoes potatoes potatoes potatoes potatoes potatoes potatoes potatoes potatoes potatoes potatoes potatoes potatoes potatoes potatoes potatoes potatoes potatoes potatoes potatoes potatoes potatoes potatoes potatoes potatoes potatoes potatoes potatoes potatoes potatoes potatoes potatoes potatoes potatoes potatoes potatoes potatoes potatoes potatoes potatoes potatoes potatoes potatoes potatoes potatoes potatoes potatoes potatoes potatoes potatoes potatoes potatoes potatoes potatoes potatoes potatoes potatoes potatoes potatoes potatoes potatoes potatoes potatoes potatoes potatoes potatoes potatoes potatoes potatoes potatoes potatoes potatoes potatoes potatoes potatoes potatoes potatoes potatoes potatoes potatoes potatoes potatoes potatoes potatoes potatoes potatoes potatoes potatoes potatoes potatoes potatoes potatoes potatoes potatoes potatoes potatoes potatoes potatoes potatoes potatoes potatoes potatoes potatoes potatoes potatoes potatoes potatoes potatoes potatoes potatoes potatoes the potatoes potatoes potatoes potatoes potatoes potatoes potatoes potatoes potatoes potatoes potatoes potatoes potatoes potatoes potatoes potatoes potatoes potatoes potatoes potatoes potatoes potatoes potatoes potatoes potatoes potatoes potatoes potatoes potatoes potatoes potatoes potatoes potatoes potatoes potatoes potatoes potatoes potatoes potatoes potatoes potatoes potatoes potatoes potatoes potatoes potatoes potatoes potatoes potatoes potatoes potatoes potatoes potatoes potatoes potatoes potatoes potatoes potatoes potatoes potatoes potatoes potatoes potatoes potatoes potatoes potatoes potatoes potatoes potatoes potatoes potatoes potatoes potatoes potatoes potatoes potatoes potatoes potatoes potatoes potatoes potatoes potatoes potatoes potatoes potatoes potatoes potatoes potatoes potatoes potatoes potatoes potatoes potatoes potatoes potatoes potatoes potatoes potatoes potatoes potatoes potatoes potatoes potatoes potatoes potatoes potatoes potatoes potatoes potatoes potatoes potatoes potatoes potatoes potatoes potatoes potatoes potatoes potatoes potatoes potatoes potatoes potatoes potatoes potatoes potatoes potatoes potatoes potatoes potatoes potatoes potatoes potatoes potatoes potatoes potatoes potatoes potatoes potatoes potatoes potatoes potatoes potatoes potatoes potatoes potatoes potatoes potatoes potatoes potatoes potatoes potatoes potatoes potatoes potatoes potatoes potatoes potatoes potatoes potatoes potatoes potatoes potatoes potatoes potatoes potatoes potatoes potatoes potatoes potatoes potatoes potatoes potatoes potatoes potatoes potatoes potatoes potatoes potatoes potatoes potatoes potatoes potatoes potatoes potatoes potatoes potatoes potatoes potatoes potatoes potatoes potatoes potatoes potatoes potatoes potatoes potatoes potatoes potatoes potatoes potatoes potatoes potatoes potatoes potatoes potatoes potatoes potatoes potatoes potatoes potatoes potatoes potatoes potatoes potatoes potatoes potatoes potatoes potatoes potatoes potatoes potatoes potatoes potatoes potatoes potatoes potatoes potatoes potatoes potatoes potatoes potatoes potatoes potatoes potatoes potatoes potatoes potatoes potatoes potatoes potatoes potatoes potatoes potatoes potatoes potatoes potatoes potatoes potatoes potatoes potatoes potatoes potatoes potatoes potatoes potatoes potatoes potatoes potatoes potatoes potatoes potatoes potatoes potatoes potatoes potatoes potatoes potatoes potatoes potatoes potatoes potatoes potatoes potatoes potatoes potatoes potatoes potatoes potatoes potatoes potatoes potatoes potatoes potatoes potatoes potatoes potatoes potatoes potatoes potatoes potatoes potatoes potatoes potatoes potatoes potatoes potatoes potatoes potatoes potatoes potatoes potatoes potatoes potatoes potatoes potatoes potatoes potatoes potatoes potatoes potatoes potatoes potatoes potatoes potatoes potatoes potatoes potatoes potatoes potatoes potatoes potatoes potatoes potatoes potatoes potatoes potatoes potatoes potatoes potatoes potatoes potatoes potatoes potatoes potatoes potatoes potatoes potatoes potatoes potatoes potatoes potatoes potatoes potatoes potatoes potatoes potatoes potatoes potatoes potatoes potatoes potatoes potatoes potatoes potatoes potatoes potatoes potatoes potatoes potatoes potatoes potatoes potatoes potatoes potatoes potatoes potatoes potatoes potatoes potatoes potatoes potatoes potatoes potatoes potatoes potatoes potatoes potatoes potatoes potatoes potatoes potatoes potatoes potatoes potatoes potatoes potatoes potatoes potatoes potatoes potatoes potatoes potatoes potatoes potatoes potatoes potatoes potatoes potatoes potatoes potatoes potatoes potatoes potatoes potatoes potatoes potatoes potatoes potatoes potatoes potatoes potatoes potatoes potatoes potatoes potatoes potatoes potatoes potatoes potatoes potatoes potatoes potatoes potatoes potatoes potatoes potatoes potatoes potatoes potatoes potatoes potatoes potatoes potatoes potatoes potatoes potatoes potatoes potatoes potatoes potatoes potatoes potatoes potatoes potatoes potatoes potatoes potatoes potatoes potatoes potatoes potatoes potatoes potatoes potatoes potatoes potatoes potatoes potatoes potatoes potatoes potatoes potatoes potatoes potatoes potatoes potatoes potatoes potatoes potatoes potatoes potatoes potatoes potatoes potatoes potatoes potatoes potatoes potatoes potatoes potatoes potatoes potatoes potatoes potatoes potatoes potatoes potatoes potatoes potatoes potatoes potatoes potatoes potatoes potatoes potatoes potatoes potatoes potatoes potatoes potatoes potatoes potatoes potatoes potatoes potatoes potatoes potatoes potatoes potatoes potatoes potatoes potatoes potatoes potatoes potatoes potatoes potatoes potatoes potatoes potatoes potatoes potatoes potatoes potatoes potatoes potatoes potatoes potatoes potatoes potatoes potatoes potatoes potatoes potatoes potatoes potatoes potatoes potatoes potatoes potatoes potatoes potatoes potatoes potatoes potatoes potatoes potatoes potatoes potatoes potatoes potatoes potatoes potatoes potatoes potatoes potatoes potatoes potatoes potatoes potatoes potatoes potatoes potatoes potatoes potatoes potatoes potatoes potatoes potatoes potatoes potatoes potatoes potatoes potatoes potatoes potatoes potatoes potatoes potatoes potatoes potatoes potatoes potatoes potatoes potatoes potatoes potatoes potatoes potatoes potatoes potatoes potatoes potatoes potatoes potatoes potatoes potatoes potatoes potatoes potatoes potatoes potatoes potatoes potatoes potatoes potatoes potatoes potatoes potatoes potatoes potatoes potatoes potatoes potatoes potatoes potatoes potatoes potatoes potatoes potatoes potatoes potatoes potatoes potatoes potatoes potatoes potatoes potatoes potatoes potatoes potatoes potatoes potatoes potatoes potatoes potatoes potatoes potatoes potatoes potatoes potatoes potatoes potatoes potatoes potatoes potatoes potatoes potatoes potatoes potatoes potatoes potatoes potatoes potatoes potatoes potatoes potatoes potatoes potatoes potatoes potatoes potatoes potatoes potatoes potatoes potatoes potatoes potatoes potatoes potatoes potatoes potatoes potatoes potatoes potatoes potatoes potatoes potatoes potatoes potatoes potatoes potatoes potatoes potatoes potatoes potatoes potatoes potatoes potatoes potatoes potatoes potatoes potatoes potatoes potatoes potatoes potatoes potatoes potatoes potatoes potatoes potatoes potatoes\n",
            "\n",
            ">  st time host stuffing\n",
            "= saute the sausage meat and oil in a medium frying pan step drain the fat from the browned sausage and add the chopped onion and celery step saute until the onion is soft step place in large casserole dish step stir in rest of the ingredients well step stuff the turkey if desired and bake the extra alongside for one hour in a greased casserole dish step make sure the stuffing is at room temperature before stuffing the turkey or baking alone end \n",
            "< the potatoes potatoes potatoes potatoes potatoes potatoes potatoes potatoes potatoes potatoes potatoes potatoes potatoes potatoes potatoes potatoes potatoes potatoes potatoes potatoes potatoes potatoes potatoes potatoes potatoes potatoes potatoes potatoes potatoes potatoes potatoes potatoes potatoes potatoes potatoes potatoes potatoes potatoes potatoes potatoes potatoes potatoes potatoes potatoes potatoes potatoes potatoes potatoes potatoes potatoes potatoes potatoes potatoes potatoes potatoes potatoes potatoes potatoes potatoes potatoes potatoes potatoes potatoes potatoes potatoes potatoes potatoes potatoes potatoes potatoes potatoes potatoes potatoes potatoes potatoes potatoes potatoes potatoes potatoes potatoes potatoes potatoes potatoes potatoes potatoes potatoes potatoes potatoes potatoes potatoes potatoes potatoes potatoes potatoes potatoes potatoes potatoes potatoes potatoes potatoes potatoes potatoes potatoes potatoes potatoes potatoes potatoes potatoes potatoes potatoes potatoes potatoes potatoes potatoes potatoes potatoes potatoes potatoes potatoes potatoes potatoes potatoes potatoes potatoes potatoes potatoes potatoes potatoes potatoes potatoes potatoes potatoes potatoes potatoes potatoes potatoes potatoes potatoes potatoes potatoes potatoes potatoes potatoes potatoes potatoes potatoes potatoes potatoes potatoes potatoes potatoes potatoes potatoes potatoes potatoes potatoes potatoes potatoes potatoes potatoes potatoes potatoes potatoes potatoes potatoes potatoes potatoes potatoes potatoes potatoes potatoes potatoes potatoes potatoes potatoes potatoes potatoes potatoes potatoes potatoes potatoes potatoes potatoes potatoes potatoes potatoes potatoes potatoes potatoes potatoes potatoes potatoes potatoes potatoes potatoes potatoes potatoes potatoes potatoes potatoes potatoes potatoes potatoes potatoes potatoes potatoes potatoes potatoes potatoes potatoes potatoes potatoes potatoes potatoes potatoes potatoes potatoes potatoes potatoes potatoes potatoes potatoes potatoes potatoes potatoes potatoes potatoes potatoes potatoes potatoes potatoes potatoes potatoes potatoes potatoes potatoes potatoes potatoes potatoes potatoes potatoes potatoes potatoes potatoes potatoes potatoes potatoes potatoes potatoes potatoes potatoes potatoes potatoes potatoes potatoes potatoes potatoes potatoes potatoes potatoes potatoes potatoes potatoes potatoes potatoes potatoes potatoes potatoes potatoes potatoes potatoes potatoes potatoes potatoes potatoes potatoes potatoes potatoes potatoes potatoes potatoes potatoes potatoes potatoes potatoes potatoes potatoes potatoes potatoes potatoes potatoes potatoes potatoes potatoes potatoes potatoes potatoes potatoes potatoes potatoes potatoes potatoes potatoes potatoes potatoes potatoes potatoes potatoes potatoes potatoes potatoes potatoes potatoes potatoes potatoes potatoes potatoes potatoes potatoes potatoes potatoes potatoes potatoes potatoes potatoes potatoes potatoes potatoes potatoes potatoes potatoes potatoes potatoes potatoes potatoes potatoes potatoes potatoes potatoes potatoes potatoes potatoes potatoes potatoes potatoes potatoes potatoes potatoes potatoes potatoes potatoes potatoes potatoes potatoes potatoes potatoes potatoes potatoes potatoes potatoes potatoes potatoes potatoes potatoes potatoes potatoes potatoes potatoes potatoes potatoes potatoes potatoes potatoes potatoes potatoes potatoes potatoes potatoes potatoes potatoes potatoes potatoes potatoes potatoes potatoes potatoes potatoes potatoes potatoes potatoes potatoes potatoes potatoes potatoes potatoes potatoes potatoes potatoes potatoes potatoes potatoes potatoes potatoes potatoes potatoes potatoes potatoes potatoes potatoes potatoes potatoes potatoes potatoes potatoes potatoes potatoes potatoes potatoes potatoes potatoes potatoes potatoes potatoes potatoes potatoes potatoes potatoes potatoes potatoes potatoes potatoes potatoes potatoes potatoes potatoes potatoes potatoes potatoes potatoes potatoes potatoes potatoes potatoes potatoes potatoes potatoes potatoes potatoes potatoes potatoes potatoes potatoes potatoes potatoes potatoes potatoes potatoes potatoes potatoes potatoes potatoes potatoes potatoes potatoes potatoes potatoes potatoes potatoes potatoes potatoes potatoes potatoes potatoes potatoes potatoes potatoes potatoes potatoes potatoes potatoes potatoes potatoes potatoes potatoes potatoes potatoes potatoes potatoes potatoes potatoes potatoes potatoes potatoes potatoes potatoes potatoes potatoes potatoes potatoes potatoes potatoes potatoes potatoes potatoes potatoes potatoes potatoes potatoes potatoes potatoes potatoes potatoes potatoes potatoes potatoes potatoes potatoes potatoes potatoes potatoes potatoes potatoes potatoes potatoes potatoes potatoes potatoes potatoes potatoes potatoes potatoes potatoes potatoes potatoes potatoes potatoes potatoes potatoes potatoes potatoes potatoes potatoes potatoes potatoes potatoes potatoes potatoes potatoes potatoes potatoes potatoes potatoes potatoes potatoes potatoes potatoes potatoes potatoes potatoes potatoes potatoes potatoes potatoes potatoes potatoes potatoes potatoes potatoes potatoes potatoes potatoes potatoes potatoes potatoes potatoes potatoes potatoes potatoes potatoes potatoes potatoes potatoes potatoes potatoes potatoes potatoes potatoes potatoes potatoes potatoes potatoes potatoes potatoes potatoes potatoes potatoes potatoes potatoes potatoes potatoes potatoes potatoes potatoes potatoes potatoes potatoes potatoes potatoes potatoes potatoes potatoes potatoes potatoes potatoes potatoes potatoes potatoes potatoes potatoes potatoes potatoes potatoes potatoes potatoes potatoes potatoes potatoes potatoes potatoes potatoes potatoes potatoes potatoes potatoes potatoes potatoes potatoes potatoes potatoes potatoes potatoes potatoes potatoes potatoes potatoes potatoes potatoes potatoes potatoes potatoes potatoes potatoes potatoes potatoes potatoes potatoes potatoes potatoes potatoes potatoes potatoes potatoes potatoes potatoes potatoes potatoes potatoes potatoes potatoes potatoes potatoes potatoes potatoes potatoes potatoes potatoes potatoes potatoes potatoes potatoes potatoes potatoes potatoes potatoes potatoes potatoes potatoes potatoes potatoes potatoes potatoes potatoes potatoes potatoes potatoes potatoes potatoes potatoes potatoes potatoes potatoes potatoes potatoes potatoes potatoes potatoes potatoes potatoes potatoes potatoes potatoes potatoes potatoes potatoes potatoes potatoes potatoes potatoes potatoes potatoes potatoes potatoes potatoes potatoes potatoes potatoes potatoes potatoes potatoes potatoes potatoes potatoes potatoes potatoes potatoes potatoes potatoes potatoes potatoes potatoes potatoes potatoes potatoes potatoes potatoes potatoes potatoes potatoes potatoes potatoes potatoes potatoes potatoes potatoes potatoes potatoes potatoes potatoes potatoes potatoes potatoes potatoes potatoes potatoes potatoes potatoes potatoes potatoes potatoes potatoes potatoes potatoes potatoes potatoes potatoes potatoes potatoes potatoes potatoes potatoes potatoes potatoes potatoes potatoes potatoes potatoes potatoes potatoes potatoes potatoes potatoes potatoes potatoes potatoes potatoes potatoes potatoes potatoes potatoes potatoes potatoes potatoes potatoes potatoes potatoes potatoes potatoes potatoes potatoes potatoes potatoes potatoes potatoes potatoes potatoes potatoes potatoes potatoes potatoes potatoes potatoes potatoes potatoes potatoes potatoes potatoes potatoes potatoes potatoes potatoes potatoes potatoes potatoes potatoes potatoes potatoes potatoes potatoes potatoes potatoes potatoes potatoes potatoes potatoes potatoes potatoes potatoes potatoes potatoes potatoes potatoes potatoes potatoes potatoes potatoes potatoes potatoes potatoes potatoes potatoes potatoes potatoes potatoes potatoes potatoes potatoes potatoes potatoes potatoes potatoes potatoes potatoes potatoes potatoes potatoes potatoes potatoes potatoes potatoes potatoes potatoes potatoes potatoes potatoes potatoes potatoes potatoes potatoes potatoes potatoes potatoes potatoes potatoes potatoes potatoes potatoes potatoes potatoes potatoes potatoes potatoes potatoes potatoes potatoes potatoes potatoes potatoes potatoes potatoes potatoes potatoes potatoes potatoes potatoes potatoes potatoes potatoes potatoes potatoes potatoes potatoes potatoes potatoes potatoes potatoes potatoes potatoes potatoes potatoes potatoes potatoes potatoes potatoes potatoes potatoes potatoes potatoes potatoes potatoes potatoes potatoes potatoes potatoes potatoes potatoes potatoes potatoes potatoes potatoes potatoes potatoes potatoes potatoes potatoes potatoes potatoes potatoes potatoes potatoes potatoes potatoes potatoes potatoes potatoes potatoes potatoes potatoes potatoes potatoes potatoes potatoes potatoes potatoes potatoes potatoes potatoes potatoes potatoes potatoes potatoes potatoes potatoes potatoes potatoes potatoes potatoes potatoes potatoes potatoes potatoes potatoes potatoes potatoes potatoes potatoes potatoes potatoes potatoes potatoes\n",
            "\n",
            "> rita s lasagna\n",
            "= saut meat and garlic in a large frying pan step blend the mushrooms and stewed tomatoes and add to pan step add the rest of the sauce ingredients and simmer for minutes covered step cook the noodles and rinse in cold water to let cool step layer beginning with sauce then noodles then cheese mixture repeat until out of ingredients step top with the parmesan cheese step bake at for hour end \n",
            "< the potatoes potatoes potatoes potatoes potatoes potatoes potatoes potatoes potatoes potatoes potatoes potatoes potatoes potatoes potatoes potatoes potatoes potatoes potatoes potatoes potatoes potatoes potatoes potatoes potatoes potatoes potatoes potatoes potatoes potatoes potatoes potatoes potatoes potatoes potatoes potatoes potatoes potatoes potatoes potatoes potatoes potatoes potatoes potatoes potatoes potatoes potatoes potatoes potatoes potatoes potatoes potatoes potatoes potatoes potatoes potatoes potatoes potatoes potatoes potatoes potatoes potatoes potatoes potatoes potatoes potatoes potatoes potatoes potatoes potatoes potatoes potatoes potatoes potatoes potatoes potatoes potatoes potatoes potatoes potatoes potatoes potatoes potatoes potatoes potatoes potatoes potatoes potatoes potatoes potatoes potatoes potatoes potatoes potatoes potatoes potatoes potatoes potatoes potatoes potatoes potatoes potatoes potatoes potatoes potatoes potatoes potatoes potatoes potatoes potatoes potatoes potatoes potatoes potatoes potatoes potatoes potatoes potatoes potatoes potatoes potatoes potatoes potatoes potatoes potatoes potatoes potatoes potatoes potatoes potatoes potatoes potatoes potatoes potatoes potatoes potatoes potatoes potatoes potatoes potatoes potatoes potatoes potatoes potatoes potatoes potatoes potatoes potatoes potatoes potatoes potatoes potatoes potatoes potatoes potatoes potatoes potatoes potatoes potatoes potatoes potatoes potatoes potatoes potatoes potatoes potatoes potatoes potatoes potatoes potatoes potatoes potatoes potatoes potatoes potatoes potatoes potatoes potatoes potatoes potatoes potatoes potatoes potatoes potatoes potatoes potatoes potatoes potatoes potatoes potatoes potatoes potatoes potatoes potatoes potatoes potatoes potatoes potatoes potatoes potatoes potatoes potatoes potatoes potatoes potatoes potatoes potatoes potatoes potatoes potatoes potatoes potatoes potatoes potatoes potatoes potatoes potatoes potatoes potatoes potatoes potatoes potatoes potatoes potatoes potatoes potatoes potatoes potatoes potatoes potatoes potatoes potatoes potatoes potatoes potatoes potatoes potatoes potatoes potatoes potatoes potatoes potatoes potatoes potatoes potatoes potatoes potatoes potatoes potatoes potatoes potatoes potatoes potatoes potatoes potatoes potatoes potatoes potatoes potatoes potatoes potatoes potatoes potatoes potatoes potatoes potatoes potatoes potatoes potatoes potatoes potatoes potatoes potatoes potatoes potatoes potatoes potatoes potatoes potatoes potatoes potatoes potatoes potatoes potatoes potatoes potatoes potatoes potatoes potatoes potatoes potatoes potatoes potatoes potatoes potatoes potatoes potatoes potatoes potatoes potatoes potatoes potatoes potatoes potatoes potatoes potatoes potatoes potatoes potatoes potatoes potatoes potatoes potatoes potatoes potatoes potatoes potatoes potatoes potatoes potatoes potatoes potatoes potatoes potatoes potatoes potatoes potatoes potatoes potatoes potatoes potatoes potatoes potatoes potatoes potatoes potatoes potatoes potatoes potatoes potatoes potatoes potatoes potatoes potatoes potatoes potatoes potatoes potatoes potatoes potatoes potatoes potatoes potatoes potatoes potatoes potatoes potatoes potatoes potatoes potatoes potatoes potatoes potatoes potatoes potatoes potatoes potatoes potatoes potatoes potatoes potatoes potatoes potatoes potatoes potatoes potatoes potatoes potatoes potatoes potatoes potatoes potatoes potatoes potatoes potatoes potatoes potatoes potatoes potatoes potatoes potatoes potatoes potatoes potatoes potatoes potatoes potatoes potatoes potatoes potatoes potatoes potatoes potatoes potatoes potatoes potatoes potatoes potatoes potatoes potatoes potatoes potatoes potatoes potatoes potatoes potatoes potatoes potatoes potatoes potatoes potatoes potatoes potatoes potatoes potatoes potatoes potatoes potatoes potatoes potatoes potatoes potatoes potatoes potatoes potatoes potatoes potatoes potatoes potatoes potatoes potatoes potatoes potatoes potatoes potatoes potatoes potatoes potatoes potatoes potatoes potatoes potatoes potatoes potatoes potatoes potatoes potatoes potatoes potatoes potatoes potatoes potatoes potatoes potatoes potatoes potatoes potatoes potatoes potatoes potatoes potatoes potatoes potatoes potatoes potatoes potatoes potatoes potatoes potatoes potatoes potatoes potatoes potatoes potatoes potatoes potatoes potatoes potatoes potatoes potatoes potatoes potatoes potatoes potatoes potatoes potatoes potatoes potatoes potatoes potatoes potatoes potatoes potatoes potatoes potatoes potatoes potatoes potatoes potatoes potatoes potatoes potatoes potatoes potatoes potatoes potatoes potatoes potatoes potatoes potatoes potatoes potatoes potatoes potatoes potatoes potatoes potatoes potatoes potatoes potatoes potatoes potatoes potatoes potatoes potatoes potatoes potatoes potatoes potatoes potatoes potatoes potatoes potatoes potatoes potatoes potatoes potatoes potatoes potatoes potatoes potatoes potatoes potatoes potatoes potatoes potatoes potatoes potatoes potatoes potatoes potatoes potatoes potatoes potatoes potatoes potatoes potatoes potatoes potatoes potatoes potatoes potatoes potatoes potatoes potatoes potatoes potatoes potatoes potatoes potatoes potatoes potatoes potatoes potatoes potatoes potatoes potatoes potatoes potatoes potatoes potatoes potatoes potatoes potatoes potatoes potatoes potatoes potatoes potatoes potatoes potatoes potatoes potatoes potatoes potatoes potatoes potatoes potatoes potatoes potatoes potatoes potatoes potatoes potatoes potatoes potatoes potatoes potatoes potatoes potatoes potatoes potatoes potatoes potatoes potatoes potatoes potatoes potatoes potatoes potatoes potatoes potatoes potatoes potatoes potatoes potatoes potatoes potatoes potatoes potatoes potatoes potatoes potatoes potatoes potatoes potatoes potatoes potatoes potatoes potatoes potatoes potatoes potatoes potatoes potatoes potatoes potatoes potatoes potatoes potatoes potatoes potatoes potatoes potatoes potatoes potatoes potatoes potatoes potatoes potatoes potatoes potatoes potatoes potatoes potatoes potatoes potatoes potatoes potatoes potatoes potatoes potatoes potatoes potatoes potatoes potatoes potatoes potatoes potatoes potatoes potatoes potatoes potatoes potatoes potatoes potatoes potatoes potatoes potatoes potatoes potatoes potatoes potatoes potatoes potatoes potatoes potatoes potatoes potatoes potatoes potatoes potatoes potatoes potatoes potatoes potatoes potatoes potatoes potatoes potatoes potatoes potatoes potatoes potatoes potatoes potatoes potatoes potatoes potatoes potatoes potatoes potatoes potatoes potatoes potatoes potatoes potatoes potatoes potatoes potatoes potatoes potatoes potatoes potatoes potatoes potatoes potatoes potatoes potatoes potatoes potatoes potatoes potatoes potatoes potatoes potatoes potatoes potatoes potatoes potatoes potatoes potatoes potatoes potatoes potatoes potatoes potatoes potatoes potatoes potatoes potatoes potatoes potatoes potatoes potatoes potatoes potatoes potatoes potatoes potatoes potatoes potatoes potatoes potatoes potatoes potatoes potatoes potatoes potatoes potatoes potatoes potatoes potatoes potatoes potatoes potatoes potatoes potatoes potatoes potatoes potatoes potatoes potatoes potatoes potatoes potatoes potatoes potatoes potatoes potatoes potatoes potatoes potatoes potatoes potatoes potatoes potatoes potatoes potatoes potatoes potatoes potatoes potatoes potatoes potatoes potatoes potatoes potatoes potatoes potatoes potatoes potatoes potatoes potatoes potatoes potatoes potatoes potatoes potatoes potatoes potatoes potatoes potatoes potatoes potatoes potatoes potatoes potatoes potatoes potatoes potatoes potatoes potatoes potatoes potatoes potatoes potatoes potatoes potatoes potatoes potatoes potatoes potatoes potatoes potatoes potatoes potatoes potatoes potatoes potatoes potatoes potatoes potatoes potatoes potatoes potatoes potatoes potatoes potatoes potatoes potatoes potatoes potatoes potatoes potatoes potatoes potatoes potatoes potatoes potatoes potatoes potatoes potatoes potatoes potatoes potatoes potatoes potatoes potatoes potatoes potatoes potatoes potatoes potatoes potatoes potatoes potatoes potatoes potatoes potatoes potatoes potatoes potatoes potatoes potatoes potatoes potatoes potatoes potatoes potatoes potatoes potatoes potatoes potatoes potatoes potatoes potatoes potatoes potatoes potatoes potatoes potatoes potatoes potatoes potatoes potatoes potatoes potatoes potatoes potatoes potatoes potatoes potatoes potatoes potatoes potatoes potatoes potatoes potatoes potatoes potatoes potatoes potatoes potatoes potatoes potatoes potatoes potatoes potatoes potatoes potatoes potatoes potatoes potatoes potatoes potatoes potatoes potatoes potatoes potatoes potatoes potatoes potatoes potatoes potatoes potatoes potatoes potatoes potatoes potatoes potatoes potatoes potatoes potatoes potatoes potatoes potatoes potatoes potatoes potatoes potatoes potatoes potatoes potatoes potatoes potatoes potatoes potatoes potatoes\n",
            "\n",
            "> voodoo calamari ink pasta\n",
            "= separate tentacls and the body of the calamri then gut them setting aside the ink sak step wash calamari under cold water dice the body into rings and chop the tentacles step heat garlic in oil without browning step add parsley ground pepper step cover and let it simmer for min step check from time to time step if it s sticking add some hot water step once it has simmered mix the tomato sauce with the white wine and add it to the pot step simmer for minutes more uncovered then dilute the sauce with a little hot water and simmer for a half hour more covered step minutes before meal cook pasta al dante step now you can add the ink to the sauce as much as you like step serve sauce over pasta with the rest of the white wine end \n",
            "< the potatoes potatoes potatoes potatoes potatoes potatoes potatoes potatoes potatoes potatoes potatoes potatoes potatoes potatoes potatoes potatoes potatoes potatoes potatoes potatoes potatoes potatoes potatoes potatoes potatoes potatoes potatoes potatoes potatoes potatoes potatoes potatoes potatoes potatoes potatoes potatoes potatoes potatoes potatoes potatoes potatoes potatoes potatoes potatoes potatoes potatoes potatoes potatoes potatoes potatoes potatoes potatoes potatoes potatoes potatoes potatoes potatoes potatoes potatoes potatoes potatoes potatoes potatoes potatoes potatoes potatoes potatoes potatoes potatoes potatoes potatoes potatoes potatoes potatoes potatoes potatoes potatoes potatoes potatoes potatoes potatoes potatoes potatoes potatoes potatoes potatoes potatoes potatoes potatoes potatoes potatoes potatoes potatoes potatoes potatoes potatoes potatoes potatoes potatoes potatoes potatoes potatoes potatoes potatoes potatoes potatoes potatoes potatoes potatoes potatoes potatoes potatoes potatoes potatoes potatoes potatoes potatoes potatoes potatoes potatoes potatoes potatoes potatoes potatoes potatoes potatoes potatoes potatoes potatoes potatoes potatoes potatoes potatoes potatoes potatoes potatoes potatoes potatoes potatoes potatoes potatoes potatoes potatoes potatoes potatoes potatoes potatoes potatoes potatoes potatoes potatoes potatoes potatoes potatoes potatoes potatoes potatoes potatoes potatoes potatoes potatoes potatoes potatoes potatoes potatoes potatoes potatoes potatoes potatoes potatoes potatoes potatoes potatoes potatoes potatoes potatoes potatoes potatoes potatoes potatoes potatoes potatoes potatoes potatoes potatoes potatoes potatoes potatoes potatoes potatoes potatoes potatoes potatoes potatoes potatoes potatoes potatoes potatoes potatoes potatoes potatoes potatoes potatoes potatoes potatoes potatoes potatoes potatoes potatoes potatoes potatoes potatoes potatoes potatoes potatoes potatoes potatoes potatoes potatoes potatoes potatoes potatoes potatoes potatoes potatoes potatoes potatoes potatoes potatoes potatoes potatoes potatoes potatoes potatoes potatoes potatoes potatoes potatoes potatoes potatoes potatoes potatoes potatoes potatoes potatoes potatoes potatoes potatoes potatoes potatoes potatoes potatoes potatoes potatoes potatoes potatoes potatoes potatoes potatoes potatoes potatoes potatoes potatoes potatoes potatoes potatoes potatoes potatoes potatoes potatoes potatoes potatoes potatoes potatoes potatoes potatoes potatoes potatoes potatoes potatoes potatoes potatoes potatoes potatoes potatoes potatoes potatoes potatoes potatoes potatoes potatoes potatoes potatoes potatoes potatoes potatoes potatoes potatoes potatoes potatoes potatoes potatoes potatoes potatoes potatoes potatoes potatoes potatoes potatoes potatoes potatoes potatoes potatoes potatoes potatoes potatoes potatoes potatoes potatoes potatoes potatoes potatoes potatoes potatoes potatoes potatoes potatoes potatoes potatoes potatoes potatoes potatoes potatoes potatoes potatoes potatoes potatoes potatoes potatoes potatoes potatoes potatoes potatoes potatoes potatoes potatoes potatoes potatoes potatoes potatoes potatoes potatoes potatoes potatoes potatoes potatoes potatoes potatoes potatoes potatoes potatoes potatoes potatoes potatoes potatoes potatoes potatoes potatoes potatoes potatoes potatoes potatoes potatoes potatoes potatoes potatoes potatoes potatoes potatoes potatoes potatoes potatoes potatoes potatoes potatoes potatoes potatoes potatoes potatoes potatoes potatoes potatoes potatoes potatoes potatoes potatoes potatoes potatoes potatoes potatoes potatoes potatoes potatoes potatoes potatoes potatoes potatoes potatoes potatoes potatoes potatoes potatoes potatoes potatoes potatoes potatoes potatoes potatoes potatoes potatoes potatoes potatoes potatoes potatoes potatoes potatoes potatoes potatoes potatoes potatoes potatoes potatoes potatoes potatoes potatoes potatoes potatoes potatoes potatoes potatoes potatoes potatoes potatoes potatoes potatoes potatoes potatoes potatoes potatoes potatoes potatoes potatoes potatoes potatoes potatoes potatoes potatoes potatoes potatoes potatoes potatoes potatoes potatoes potatoes potatoes potatoes potatoes potatoes potatoes potatoes potatoes potatoes potatoes potatoes potatoes potatoes potatoes potatoes potatoes potatoes potatoes potatoes potatoes potatoes potatoes potatoes potatoes potatoes potatoes potatoes potatoes potatoes potatoes potatoes potatoes potatoes potatoes potatoes potatoes potatoes potatoes potatoes potatoes potatoes potatoes potatoes potatoes potatoes potatoes potatoes potatoes potatoes potatoes potatoes potatoes potatoes potatoes potatoes potatoes potatoes potatoes potatoes potatoes potatoes potatoes potatoes potatoes potatoes potatoes potatoes potatoes potatoes potatoes potatoes potatoes potatoes potatoes potatoes potatoes potatoes potatoes potatoes potatoes potatoes potatoes potatoes potatoes potatoes potatoes potatoes potatoes potatoes potatoes potatoes potatoes potatoes potatoes potatoes potatoes potatoes potatoes potatoes potatoes potatoes potatoes potatoes potatoes potatoes potatoes potatoes potatoes potatoes potatoes potatoes potatoes potatoes potatoes potatoes potatoes potatoes potatoes potatoes potatoes potatoes potatoes potatoes potatoes potatoes potatoes potatoes potatoes potatoes potatoes potatoes potatoes potatoes potatoes potatoes potatoes potatoes potatoes potatoes potatoes potatoes potatoes potatoes potatoes potatoes potatoes potatoes potatoes potatoes potatoes potatoes potatoes potatoes potatoes potatoes potatoes potatoes potatoes potatoes potatoes potatoes potatoes potatoes potatoes potatoes potatoes potatoes potatoes potatoes potatoes potatoes potatoes potatoes potatoes potatoes potatoes potatoes potatoes potatoes potatoes potatoes potatoes potatoes potatoes potatoes potatoes potatoes potatoes potatoes potatoes potatoes potatoes potatoes potatoes potatoes potatoes potatoes potatoes potatoes potatoes potatoes potatoes potatoes potatoes potatoes potatoes potatoes potatoes potatoes potatoes potatoes potatoes potatoes potatoes potatoes potatoes potatoes potatoes potatoes potatoes potatoes potatoes potatoes potatoes potatoes potatoes potatoes potatoes potatoes potatoes potatoes potatoes potatoes potatoes potatoes potatoes potatoes potatoes potatoes potatoes potatoes potatoes potatoes potatoes potatoes potatoes potatoes potatoes potatoes potatoes potatoes potatoes potatoes potatoes potatoes potatoes potatoes potatoes potatoes potatoes potatoes potatoes potatoes potatoes potatoes potatoes potatoes potatoes potatoes potatoes potatoes potatoes potatoes potatoes potatoes potatoes potatoes potatoes potatoes potatoes potatoes potatoes potatoes potatoes potatoes potatoes potatoes potatoes potatoes potatoes potatoes potatoes potatoes potatoes potatoes potatoes potatoes potatoes potatoes potatoes potatoes potatoes potatoes potatoes potatoes potatoes potatoes potatoes potatoes potatoes potatoes potatoes potatoes potatoes potatoes potatoes potatoes potatoes potatoes potatoes potatoes potatoes potatoes potatoes potatoes potatoes potatoes potatoes potatoes potatoes potatoes potatoes potatoes potatoes potatoes potatoes potatoes potatoes potatoes potatoes potatoes potatoes potatoes potatoes potatoes potatoes potatoes potatoes potatoes potatoes potatoes potatoes potatoes potatoes potatoes potatoes potatoes potatoes potatoes potatoes potatoes potatoes potatoes potatoes potatoes potatoes potatoes potatoes potatoes potatoes potatoes potatoes potatoes potatoes potatoes potatoes potatoes potatoes potatoes potatoes potatoes potatoes potatoes potatoes potatoes potatoes potatoes potatoes potatoes potatoes potatoes potatoes potatoes potatoes potatoes potatoes potatoes potatoes potatoes potatoes potatoes potatoes potatoes potatoes potatoes potatoes potatoes potatoes potatoes potatoes potatoes potatoes potatoes potatoes potatoes potatoes potatoes potatoes potatoes potatoes potatoes potatoes potatoes potatoes potatoes potatoes potatoes potatoes potatoes potatoes potatoes potatoes potatoes potatoes potatoes potatoes potatoes potatoes potatoes potatoes potatoes potatoes potatoes potatoes potatoes potatoes potatoes potatoes potatoes potatoes potatoes potatoes potatoes potatoes potatoes potatoes potatoes potatoes potatoes potatoes potatoes potatoes potatoes potatoes potatoes potatoes potatoes potatoes potatoes potatoes potatoes potatoes potatoes potatoes potatoes potatoes potatoes potatoes potatoes potatoes potatoes potatoes potatoes potatoes potatoes potatoes potatoes potatoes potatoes potatoes potatoes potatoes potatoes potatoes potatoes potatoes potatoes potatoes potatoes potatoes potatoes potatoes potatoes potatoes potatoes potatoes potatoes potatoes potatoes potatoes potatoes potatoes potatoes potatoes potatoes potatoes potatoes potatoes potatoes potatoes potatoes potatoes potatoes potatoes potatoes potatoes potatoes potatoes potatoes potatoes potatoes potatoes potatoes potatoes potatoes potatoes\n",
            "\n",
            ">  minute pita pizza\n",
            "= put grill on at hottest temperature step heat up leftover sauce in microwave for approximately minutes step spread sauce over pita step cover with cheese step grill approximately or minutes step adapt recipe using anything from sliced vegetables on top of sauce before adding cheese step we used a mix of cheddar and mozzarella cheese step go ahead step give the kids their choice step really does make a quick easy snack end \n",
            "< the potatoes potatoes potatoes potatoes potatoes potatoes potatoes potatoes potatoes potatoes potatoes potatoes potatoes potatoes potatoes potatoes potatoes potatoes potatoes potatoes potatoes potatoes potatoes potatoes potatoes potatoes potatoes potatoes potatoes potatoes potatoes potatoes potatoes potatoes potatoes potatoes potatoes potatoes potatoes potatoes potatoes potatoes potatoes potatoes potatoes potatoes potatoes potatoes potatoes potatoes potatoes potatoes potatoes potatoes potatoes potatoes potatoes potatoes potatoes potatoes potatoes potatoes potatoes potatoes potatoes potatoes potatoes potatoes potatoes potatoes potatoes potatoes potatoes potatoes potatoes potatoes potatoes potatoes potatoes potatoes potatoes potatoes potatoes potatoes potatoes potatoes potatoes potatoes potatoes potatoes potatoes potatoes potatoes potatoes potatoes potatoes potatoes potatoes potatoes potatoes potatoes potatoes potatoes potatoes potatoes potatoes potatoes potatoes potatoes potatoes potatoes potatoes potatoes potatoes potatoes potatoes potatoes potatoes potatoes potatoes potatoes potatoes potatoes potatoes potatoes potatoes potatoes potatoes potatoes potatoes potatoes potatoes potatoes potatoes potatoes potatoes potatoes potatoes potatoes potatoes potatoes potatoes potatoes potatoes potatoes potatoes potatoes potatoes potatoes potatoes potatoes potatoes potatoes potatoes potatoes potatoes potatoes potatoes potatoes potatoes potatoes potatoes potatoes potatoes potatoes potatoes potatoes potatoes potatoes potatoes potatoes potatoes potatoes potatoes potatoes potatoes potatoes potatoes potatoes potatoes potatoes potatoes potatoes potatoes potatoes potatoes potatoes potatoes potatoes potatoes potatoes potatoes potatoes potatoes potatoes potatoes potatoes potatoes potatoes potatoes potatoes potatoes potatoes potatoes potatoes potatoes potatoes potatoes potatoes potatoes potatoes potatoes potatoes potatoes potatoes potatoes potatoes potatoes potatoes potatoes potatoes potatoes potatoes potatoes potatoes potatoes potatoes potatoes potatoes potatoes potatoes potatoes potatoes potatoes potatoes potatoes potatoes potatoes potatoes potatoes potatoes potatoes potatoes potatoes potatoes potatoes potatoes potatoes potatoes potatoes potatoes potatoes potatoes potatoes potatoes potatoes potatoes potatoes potatoes potatoes potatoes potatoes potatoes potatoes potatoes potatoes potatoes potatoes potatoes potatoes potatoes potatoes potatoes potatoes potatoes potatoes potatoes potatoes potatoes potatoes potatoes potatoes potatoes potatoes potatoes potatoes potatoes potatoes potatoes potatoes potatoes potatoes potatoes potatoes potatoes potatoes potatoes potatoes potatoes potatoes potatoes potatoes potatoes potatoes potatoes potatoes potatoes potatoes potatoes potatoes potatoes potatoes potatoes potatoes potatoes potatoes potatoes potatoes potatoes potatoes potatoes potatoes potatoes potatoes potatoes potatoes potatoes potatoes potatoes potatoes potatoes potatoes potatoes potatoes potatoes potatoes potatoes potatoes potatoes potatoes potatoes potatoes potatoes potatoes potatoes potatoes potatoes potatoes potatoes potatoes potatoes potatoes potatoes potatoes potatoes potatoes potatoes potatoes potatoes potatoes potatoes potatoes potatoes potatoes potatoes potatoes potatoes potatoes potatoes potatoes potatoes potatoes potatoes potatoes potatoes potatoes potatoes potatoes potatoes potatoes potatoes potatoes potatoes potatoes potatoes potatoes potatoes potatoes potatoes potatoes potatoes potatoes potatoes potatoes potatoes potatoes potatoes potatoes potatoes potatoes potatoes potatoes potatoes potatoes potatoes potatoes potatoes potatoes potatoes potatoes potatoes potatoes potatoes potatoes potatoes potatoes potatoes potatoes potatoes potatoes potatoes potatoes potatoes potatoes potatoes potatoes potatoes potatoes potatoes potatoes potatoes potatoes potatoes potatoes potatoes potatoes potatoes potatoes potatoes potatoes potatoes potatoes potatoes potatoes potatoes potatoes potatoes potatoes potatoes potatoes potatoes potatoes potatoes potatoes potatoes potatoes potatoes potatoes potatoes potatoes potatoes potatoes potatoes potatoes potatoes potatoes potatoes potatoes potatoes potatoes potatoes potatoes potatoes potatoes potatoes potatoes potatoes potatoes potatoes potatoes potatoes potatoes potatoes potatoes potatoes potatoes potatoes potatoes potatoes potatoes potatoes potatoes potatoes potatoes potatoes potatoes potatoes potatoes potatoes potatoes potatoes potatoes potatoes potatoes potatoes potatoes potatoes potatoes potatoes potatoes potatoes potatoes potatoes potatoes potatoes potatoes potatoes potatoes potatoes potatoes potatoes potatoes potatoes potatoes potatoes potatoes potatoes potatoes potatoes potatoes potatoes potatoes potatoes potatoes potatoes potatoes potatoes potatoes potatoes potatoes potatoes potatoes potatoes potatoes potatoes potatoes potatoes potatoes potatoes potatoes potatoes potatoes potatoes potatoes potatoes potatoes potatoes potatoes potatoes potatoes potatoes potatoes potatoes potatoes potatoes potatoes potatoes potatoes potatoes potatoes potatoes potatoes potatoes potatoes potatoes potatoes potatoes potatoes potatoes potatoes potatoes potatoes potatoes potatoes potatoes potatoes potatoes potatoes potatoes potatoes potatoes potatoes potatoes potatoes potatoes potatoes potatoes potatoes potatoes potatoes potatoes potatoes potatoes potatoes potatoes potatoes potatoes potatoes potatoes potatoes potatoes potatoes potatoes potatoes potatoes potatoes potatoes potatoes potatoes potatoes potatoes potatoes potatoes potatoes potatoes potatoes potatoes potatoes potatoes potatoes potatoes potatoes potatoes potatoes potatoes potatoes potatoes potatoes potatoes potatoes potatoes potatoes potatoes potatoes potatoes potatoes potatoes potatoes potatoes potatoes potatoes potatoes potatoes potatoes potatoes potatoes potatoes potatoes potatoes potatoes potatoes potatoes potatoes potatoes potatoes potatoes potatoes potatoes potatoes potatoes potatoes potatoes potatoes potatoes potatoes potatoes potatoes potatoes potatoes potatoes potatoes potatoes potatoes potatoes potatoes potatoes potatoes potatoes potatoes potatoes potatoes potatoes potatoes potatoes potatoes potatoes potatoes potatoes potatoes potatoes potatoes potatoes potatoes potatoes potatoes potatoes potatoes potatoes potatoes potatoes potatoes potatoes potatoes potatoes potatoes potatoes potatoes potatoes potatoes potatoes potatoes potatoes potatoes potatoes potatoes potatoes potatoes potatoes potatoes potatoes potatoes potatoes potatoes potatoes potatoes potatoes potatoes potatoes potatoes potatoes potatoes potatoes potatoes potatoes potatoes potatoes potatoes potatoes potatoes potatoes potatoes potatoes potatoes potatoes potatoes potatoes potatoes potatoes potatoes potatoes potatoes potatoes potatoes potatoes potatoes potatoes potatoes potatoes potatoes potatoes potatoes potatoes potatoes potatoes potatoes potatoes potatoes potatoes potatoes potatoes potatoes potatoes potatoes potatoes potatoes potatoes potatoes potatoes potatoes potatoes potatoes potatoes potatoes potatoes potatoes potatoes potatoes potatoes potatoes potatoes potatoes potatoes potatoes potatoes potatoes potatoes potatoes potatoes potatoes potatoes potatoes potatoes potatoes potatoes potatoes potatoes potatoes potatoes potatoes potatoes potatoes potatoes potatoes potatoes potatoes potatoes potatoes potatoes potatoes potatoes potatoes potatoes potatoes potatoes potatoes potatoes potatoes potatoes potatoes potatoes potatoes potatoes potatoes potatoes potatoes potatoes potatoes potatoes potatoes potatoes potatoes potatoes potatoes potatoes potatoes potatoes potatoes potatoes potatoes potatoes potatoes potatoes potatoes potatoes potatoes potatoes potatoes potatoes potatoes potatoes potatoes potatoes potatoes potatoes potatoes potatoes potatoes potatoes potatoes potatoes potatoes potatoes potatoes potatoes potatoes potatoes potatoes potatoes potatoes potatoes potatoes potatoes potatoes potatoes potatoes potatoes potatoes potatoes potatoes potatoes potatoes potatoes potatoes potatoes potatoes potatoes potatoes potatoes potatoes potatoes potatoes potatoes potatoes potatoes potatoes potatoes potatoes potatoes potatoes potatoes potatoes potatoes potatoes potatoes potatoes potatoes potatoes potatoes potatoes potatoes potatoes potatoes potatoes potatoes potatoes potatoes potatoes potatoes potatoes potatoes potatoes potatoes potatoes potatoes potatoes potatoes potatoes potatoes potatoes potatoes potatoes potatoes potatoes potatoes potatoes potatoes potatoes potatoes potatoes potatoes potatoes potatoes potatoes potatoes potatoes potatoes potatoes potatoes potatoes potatoes potatoes potatoes potatoes potatoes potatoes potatoes potatoes potatoes potatoes potatoes potatoes potatoes potatoes potatoes potatoes potatoes potatoes potatoes potatoes potatoes potatoes potatoes potatoes potatoes potatoes potatoes potatoes potatoes potatoes\n",
            "\n",
            "> the works crock pot chili\n",
            "= cook ground beef garlic onion and red pepper over medium high heat step drain excess fat and put in crockpot step combine all remaining ingredients in crockpot and stir well step cook on low for hours end \n",
            "< the potatoes potatoes potatoes potatoes potatoes potatoes potatoes potatoes potatoes potatoes potatoes potatoes potatoes potatoes potatoes potatoes potatoes potatoes potatoes potatoes potatoes potatoes potatoes potatoes potatoes potatoes potatoes potatoes potatoes potatoes potatoes potatoes potatoes potatoes potatoes potatoes potatoes potatoes potatoes potatoes potatoes potatoes potatoes potatoes potatoes potatoes potatoes potatoes potatoes potatoes potatoes potatoes potatoes potatoes potatoes potatoes potatoes potatoes potatoes potatoes potatoes potatoes potatoes potatoes potatoes potatoes potatoes potatoes potatoes potatoes potatoes potatoes potatoes potatoes potatoes potatoes potatoes potatoes potatoes potatoes potatoes potatoes potatoes potatoes potatoes potatoes potatoes potatoes potatoes potatoes potatoes potatoes potatoes potatoes potatoes potatoes potatoes potatoes potatoes potatoes potatoes potatoes potatoes potatoes potatoes potatoes potatoes potatoes potatoes potatoes potatoes potatoes potatoes potatoes potatoes potatoes potatoes potatoes potatoes potatoes potatoes potatoes potatoes potatoes potatoes potatoes potatoes potatoes potatoes potatoes potatoes potatoes potatoes potatoes potatoes potatoes potatoes potatoes potatoes potatoes potatoes potatoes potatoes potatoes potatoes potatoes potatoes potatoes potatoes potatoes potatoes potatoes potatoes potatoes potatoes potatoes potatoes potatoes potatoes potatoes potatoes potatoes potatoes potatoes potatoes potatoes potatoes potatoes potatoes potatoes potatoes potatoes potatoes potatoes potatoes potatoes potatoes potatoes potatoes potatoes potatoes potatoes potatoes potatoes potatoes potatoes potatoes potatoes potatoes potatoes potatoes potatoes potatoes potatoes potatoes potatoes potatoes potatoes potatoes potatoes potatoes potatoes potatoes potatoes potatoes potatoes potatoes potatoes potatoes potatoes potatoes potatoes potatoes potatoes potatoes potatoes potatoes potatoes potatoes potatoes potatoes potatoes potatoes potatoes potatoes potatoes potatoes potatoes potatoes potatoes potatoes potatoes potatoes potatoes potatoes potatoes potatoes potatoes potatoes potatoes potatoes potatoes potatoes potatoes potatoes potatoes potatoes potatoes potatoes potatoes potatoes potatoes potatoes potatoes potatoes potatoes potatoes potatoes potatoes potatoes potatoes potatoes potatoes potatoes potatoes potatoes potatoes potatoes potatoes potatoes potatoes potatoes potatoes potatoes potatoes potatoes potatoes potatoes potatoes potatoes potatoes potatoes potatoes potatoes potatoes potatoes potatoes potatoes potatoes potatoes potatoes potatoes potatoes potatoes potatoes potatoes potatoes potatoes potatoes potatoes potatoes potatoes potatoes potatoes potatoes potatoes potatoes potatoes potatoes potatoes potatoes potatoes potatoes potatoes potatoes potatoes potatoes potatoes potatoes potatoes potatoes potatoes potatoes potatoes potatoes potatoes potatoes potatoes potatoes potatoes potatoes potatoes potatoes potatoes potatoes potatoes potatoes potatoes potatoes potatoes potatoes potatoes potatoes potatoes potatoes potatoes potatoes potatoes potatoes potatoes potatoes potatoes potatoes potatoes potatoes potatoes potatoes potatoes potatoes potatoes potatoes potatoes potatoes potatoes potatoes potatoes potatoes potatoes potatoes potatoes potatoes potatoes potatoes potatoes potatoes potatoes potatoes potatoes potatoes potatoes potatoes potatoes potatoes potatoes potatoes potatoes potatoes potatoes potatoes potatoes potatoes potatoes potatoes potatoes potatoes potatoes potatoes potatoes potatoes potatoes potatoes potatoes potatoes potatoes potatoes potatoes potatoes potatoes potatoes potatoes potatoes potatoes potatoes potatoes potatoes potatoes potatoes potatoes potatoes potatoes potatoes potatoes potatoes potatoes potatoes potatoes potatoes potatoes potatoes potatoes potatoes potatoes potatoes potatoes potatoes potatoes potatoes potatoes potatoes potatoes potatoes potatoes potatoes potatoes potatoes potatoes potatoes potatoes potatoes potatoes potatoes potatoes potatoes potatoes potatoes potatoes potatoes potatoes potatoes potatoes potatoes potatoes potatoes potatoes potatoes potatoes potatoes potatoes potatoes potatoes potatoes potatoes potatoes potatoes potatoes potatoes potatoes potatoes potatoes potatoes potatoes potatoes potatoes potatoes potatoes potatoes potatoes potatoes potatoes potatoes potatoes potatoes potatoes potatoes potatoes potatoes potatoes potatoes potatoes potatoes potatoes potatoes potatoes potatoes potatoes potatoes potatoes potatoes potatoes potatoes potatoes potatoes potatoes potatoes potatoes potatoes potatoes potatoes potatoes potatoes potatoes potatoes potatoes potatoes potatoes potatoes potatoes potatoes potatoes potatoes potatoes potatoes potatoes potatoes potatoes potatoes potatoes potatoes potatoes potatoes potatoes potatoes potatoes potatoes potatoes potatoes potatoes potatoes potatoes potatoes potatoes potatoes potatoes potatoes potatoes potatoes potatoes potatoes potatoes potatoes potatoes potatoes potatoes potatoes potatoes potatoes potatoes potatoes potatoes potatoes potatoes potatoes potatoes potatoes potatoes potatoes potatoes potatoes potatoes potatoes potatoes potatoes potatoes potatoes potatoes potatoes potatoes potatoes potatoes potatoes potatoes potatoes potatoes potatoes potatoes potatoes potatoes potatoes potatoes potatoes potatoes potatoes potatoes potatoes potatoes potatoes potatoes potatoes potatoes potatoes potatoes potatoes potatoes potatoes potatoes potatoes potatoes potatoes potatoes potatoes potatoes potatoes potatoes potatoes potatoes potatoes potatoes potatoes potatoes potatoes potatoes potatoes potatoes potatoes potatoes potatoes potatoes potatoes potatoes potatoes potatoes potatoes potatoes potatoes potatoes potatoes potatoes potatoes potatoes potatoes potatoes potatoes potatoes potatoes potatoes potatoes potatoes potatoes potatoes potatoes potatoes potatoes potatoes potatoes potatoes potatoes potatoes potatoes potatoes potatoes potatoes potatoes potatoes potatoes potatoes potatoes potatoes potatoes potatoes potatoes potatoes potatoes potatoes potatoes potatoes potatoes potatoes potatoes potatoes potatoes potatoes potatoes potatoes potatoes potatoes potatoes potatoes potatoes potatoes potatoes potatoes potatoes potatoes potatoes potatoes potatoes potatoes potatoes potatoes potatoes potatoes potatoes potatoes potatoes potatoes potatoes potatoes potatoes potatoes potatoes potatoes potatoes potatoes potatoes potatoes potatoes potatoes potatoes potatoes potatoes potatoes potatoes potatoes potatoes potatoes potatoes potatoes potatoes potatoes potatoes potatoes potatoes potatoes potatoes potatoes potatoes potatoes potatoes potatoes potatoes potatoes potatoes potatoes potatoes potatoes potatoes potatoes potatoes potatoes potatoes potatoes potatoes potatoes potatoes potatoes potatoes potatoes potatoes potatoes potatoes potatoes potatoes potatoes potatoes potatoes potatoes potatoes potatoes potatoes potatoes potatoes potatoes potatoes potatoes potatoes potatoes potatoes potatoes potatoes potatoes potatoes potatoes potatoes potatoes potatoes potatoes potatoes potatoes potatoes potatoes potatoes potatoes potatoes potatoes potatoes potatoes potatoes potatoes potatoes potatoes potatoes potatoes potatoes potatoes potatoes potatoes potatoes potatoes potatoes potatoes potatoes potatoes potatoes potatoes potatoes potatoes potatoes potatoes potatoes potatoes potatoes potatoes potatoes potatoes potatoes potatoes potatoes potatoes potatoes potatoes potatoes potatoes potatoes potatoes potatoes potatoes potatoes potatoes potatoes potatoes potatoes potatoes potatoes potatoes potatoes potatoes potatoes potatoes potatoes potatoes potatoes potatoes potatoes potatoes potatoes potatoes potatoes potatoes potatoes potatoes potatoes potatoes potatoes potatoes potatoes potatoes potatoes potatoes potatoes potatoes potatoes potatoes potatoes potatoes potatoes potatoes potatoes potatoes potatoes potatoes potatoes potatoes potatoes potatoes potatoes potatoes potatoes potatoes potatoes potatoes potatoes potatoes potatoes potatoes potatoes potatoes potatoes potatoes potatoes potatoes potatoes potatoes potatoes potatoes potatoes potatoes potatoes potatoes potatoes potatoes potatoes potatoes potatoes potatoes potatoes potatoes potatoes potatoes potatoes potatoes potatoes potatoes potatoes potatoes potatoes potatoes potatoes potatoes potatoes potatoes potatoes potatoes potatoes potatoes potatoes potatoes potatoes potatoes potatoes potatoes potatoes potatoes potatoes potatoes potatoes potatoes potatoes potatoes potatoes potatoes potatoes potatoes potatoes potatoes potatoes potatoes potatoes potatoes potatoes potatoes potatoes potatoes potatoes potatoes potatoes potatoes potatoes potatoes potatoes potatoes potatoes potatoes potatoes potatoes potatoes potatoes potatoes potatoes potatoes potatoes potatoes potatoes potatoes potatoes potatoes potatoes potatoes potatoes potatoes\n",
            "\n",
            ">  kinds of beans baked bean dish\n",
            "= brown bacon in skillet then remove and set aside step in a quart casserole baking dish combine the beans onion catsup brown sugar worcestershire sauce and bacon step cover and bake hour in a degree oven step remove from oven top with the velveeta slices return to oven and continue to bake until the cheese melts end \n",
            "< potatoes potatoes potatoes potatoes potatoes potatoes potatoes potatoes potatoes potatoes potatoes potatoes potatoes potatoes potatoes potatoes potatoes potatoes potatoes potatoes potatoes potatoes potatoes potatoes potatoes potatoes potatoes potatoes potatoes potatoes potatoes potatoes potatoes potatoes potatoes potatoes potatoes potatoes potatoes potatoes potatoes potatoes potatoes potatoes potatoes potatoes potatoes potatoes potatoes potatoes potatoes potatoes potatoes potatoes potatoes potatoes potatoes potatoes potatoes potatoes potatoes potatoes potatoes potatoes potatoes potatoes potatoes potatoes potatoes potatoes potatoes potatoes potatoes potatoes potatoes potatoes potatoes potatoes for potatoes for potatoes for potatoes for potatoes potatoes potatoes potatoes for potatoes potatoes for potatoes for potatoes potatoes potatoes for for potatoes potatoes for potatoes potatoes potatoes for potatoes for potatoes potatoes potatoes potatoes potatoes potatoes potatoes potatoes potatoes potatoes potatoes potatoes potatoes potatoes potatoes potatoes potatoes potatoes potatoes potatoes potatoes potatoes potatoes potatoes potatoes potatoes potatoes potatoes potatoes potatoes potatoes potatoes potatoes potatoes potatoes potatoes potatoes potatoes potatoes potatoes potatoes potatoes potatoes potatoes potatoes potatoes potatoes potatoes potatoes potatoes potatoes potatoes potatoes potatoes potatoes potatoes potatoes potatoes potatoes potatoes potatoes potatoes potatoes potatoes potatoes potatoes potatoes potatoes potatoes potatoes potatoes potatoes potatoes potatoes potatoes potatoes potatoes potatoes potatoes potatoes potatoes potatoes potatoes potatoes potatoes potatoes potatoes potatoes potatoes potatoes potatoes potatoes potatoes potatoes potatoes potatoes potatoes potatoes potatoes potatoes potatoes potatoes potatoes potatoes potatoes potatoes potatoes potatoes potatoes potatoes potatoes potatoes potatoes potatoes potatoes potatoes potatoes potatoes potatoes potatoes potatoes potatoes potatoes potatoes potatoes potatoes potatoes potatoes potatoes potatoes potatoes potatoes potatoes potatoes potatoes potatoes potatoes potatoes potatoes potatoes potatoes potatoes potatoes potatoes potatoes potatoes potatoes potatoes potatoes potatoes potatoes potatoes potatoes potatoes potatoes potatoes potatoes potatoes potatoes potatoes potatoes potatoes potatoes potatoes potatoes potatoes potatoes potatoes potatoes potatoes potatoes potatoes potatoes potatoes potatoes potatoes potatoes potatoes potatoes potatoes potatoes potatoes potatoes potatoes potatoes potatoes potatoes potatoes potatoes potatoes potatoes potatoes potatoes potatoes potatoes potatoes potatoes potatoes potatoes potatoes potatoes potatoes potatoes potatoes potatoes potatoes potatoes potatoes potatoes potatoes potatoes potatoes potatoes potatoes potatoes potatoes potatoes potatoes potatoes potatoes potatoes potatoes potatoes potatoes potatoes potatoes potatoes potatoes potatoes potatoes potatoes potatoes potatoes potatoes potatoes potatoes potatoes potatoes potatoes potatoes potatoes potatoes potatoes potatoes potatoes potatoes potatoes potatoes potatoes potatoes potatoes potatoes potatoes potatoes potatoes potatoes potatoes potatoes potatoes potatoes potatoes potatoes potatoes potatoes potatoes potatoes potatoes potatoes potatoes potatoes potatoes potatoes potatoes potatoes potatoes potatoes potatoes potatoes potatoes potatoes potatoes potatoes potatoes potatoes potatoes potatoes potatoes potatoes potatoes potatoes potatoes potatoes potatoes potatoes potatoes potatoes potatoes potatoes potatoes potatoes potatoes potatoes potatoes potatoes potatoes potatoes potatoes potatoes potatoes potatoes potatoes potatoes potatoes potatoes potatoes potatoes potatoes potatoes potatoes potatoes potatoes potatoes potatoes potatoes potatoes potatoes potatoes potatoes potatoes potatoes potatoes potatoes potatoes potatoes potatoes potatoes potatoes potatoes potatoes potatoes potatoes potatoes potatoes potatoes potatoes potatoes potatoes potatoes potatoes potatoes potatoes potatoes potatoes potatoes potatoes potatoes potatoes potatoes potatoes potatoes potatoes potatoes potatoes potatoes potatoes potatoes potatoes potatoes potatoes potatoes potatoes potatoes potatoes potatoes potatoes potatoes potatoes potatoes potatoes potatoes potatoes potatoes potatoes potatoes potatoes potatoes potatoes potatoes potatoes potatoes potatoes potatoes potatoes potatoes potatoes potatoes potatoes potatoes potatoes potatoes potatoes potatoes potatoes potatoes potatoes potatoes potatoes potatoes potatoes potatoes potatoes potatoes potatoes potatoes potatoes potatoes potatoes potatoes potatoes potatoes potatoes potatoes potatoes potatoes potatoes potatoes potatoes potatoes potatoes potatoes potatoes potatoes potatoes potatoes potatoes potatoes potatoes potatoes potatoes potatoes potatoes potatoes potatoes potatoes potatoes potatoes potatoes potatoes potatoes potatoes potatoes potatoes potatoes potatoes potatoes potatoes potatoes potatoes potatoes potatoes potatoes potatoes potatoes potatoes potatoes potatoes potatoes potatoes potatoes potatoes potatoes potatoes potatoes potatoes potatoes potatoes potatoes potatoes potatoes potatoes potatoes potatoes potatoes potatoes potatoes potatoes potatoes potatoes potatoes potatoes potatoes potatoes potatoes potatoes potatoes potatoes potatoes potatoes potatoes potatoes potatoes potatoes potatoes potatoes potatoes potatoes potatoes potatoes potatoes potatoes potatoes potatoes potatoes potatoes potatoes potatoes potatoes potatoes potatoes potatoes potatoes potatoes potatoes potatoes potatoes potatoes potatoes potatoes potatoes potatoes potatoes potatoes potatoes potatoes potatoes potatoes potatoes potatoes potatoes potatoes potatoes potatoes potatoes potatoes potatoes potatoes potatoes potatoes potatoes potatoes potatoes potatoes potatoes potatoes potatoes potatoes potatoes potatoes potatoes potatoes potatoes potatoes potatoes potatoes potatoes potatoes potatoes potatoes potatoes potatoes potatoes potatoes potatoes potatoes potatoes potatoes potatoes potatoes potatoes potatoes potatoes potatoes potatoes potatoes potatoes potatoes potatoes potatoes potatoes potatoes potatoes potatoes potatoes potatoes potatoes potatoes potatoes potatoes potatoes potatoes potatoes potatoes potatoes potatoes potatoes potatoes potatoes potatoes potatoes potatoes potatoes potatoes potatoes potatoes potatoes potatoes potatoes potatoes potatoes potatoes potatoes potatoes potatoes potatoes potatoes potatoes potatoes potatoes potatoes potatoes potatoes potatoes potatoes potatoes potatoes potatoes potatoes potatoes potatoes potatoes potatoes potatoes potatoes potatoes potatoes potatoes potatoes potatoes potatoes potatoes potatoes potatoes potatoes potatoes potatoes potatoes potatoes potatoes potatoes potatoes potatoes potatoes potatoes potatoes potatoes potatoes potatoes potatoes potatoes potatoes potatoes potatoes potatoes potatoes potatoes potatoes potatoes potatoes potatoes potatoes potatoes potatoes potatoes potatoes potatoes potatoes potatoes potatoes potatoes potatoes potatoes potatoes potatoes potatoes potatoes potatoes potatoes potatoes potatoes potatoes potatoes potatoes potatoes potatoes potatoes potatoes potatoes potatoes potatoes potatoes potatoes potatoes potatoes potatoes potatoes potatoes potatoes potatoes potatoes potatoes potatoes potatoes potatoes potatoes potatoes potatoes potatoes potatoes potatoes potatoes potatoes potatoes potatoes potatoes potatoes potatoes potatoes potatoes potatoes potatoes potatoes potatoes potatoes potatoes potatoes potatoes potatoes potatoes potatoes potatoes potatoes potatoes potatoes potatoes potatoes potatoes potatoes potatoes potatoes potatoes potatoes potatoes potatoes potatoes potatoes potatoes potatoes potatoes potatoes potatoes potatoes potatoes potatoes potatoes potatoes potatoes potatoes potatoes potatoes potatoes potatoes potatoes potatoes potatoes potatoes potatoes potatoes potatoes potatoes potatoes potatoes potatoes potatoes potatoes potatoes potatoes potatoes potatoes potatoes potatoes potatoes potatoes potatoes potatoes potatoes potatoes potatoes potatoes potatoes potatoes potatoes potatoes potatoes potatoes potatoes potatoes potatoes potatoes potatoes potatoes potatoes potatoes potatoes potatoes potatoes potatoes potatoes potatoes potatoes potatoes potatoes potatoes potatoes potatoes potatoes potatoes potatoes potatoes potatoes potatoes potatoes potatoes potatoes potatoes potatoes potatoes potatoes potatoes potatoes potatoes potatoes potatoes potatoes potatoes potatoes potatoes potatoes potatoes potatoes potatoes potatoes potatoes potatoes potatoes potatoes potatoes potatoes potatoes potatoes potatoes potatoes potatoes potatoes potatoes potatoes potatoes potatoes potatoes potatoes potatoes potatoes potatoes potatoes potatoes potatoes potatoes potatoes potatoes potatoes potatoes potatoes\n",
            "\n",
            "> three cheese cheese ball\n",
            "= mix all ingredients thoroughly step divide mixture in half and place each half on a sheet of plastic wrap step draw up the sides of the plastic wrap tightly around each ball and firmly secure step refrigerate hours or until firm step remove plastic wrap and roll in nuts before serving end \n",
            "< the potatoes potatoes potatoes potatoes potatoes potatoes potatoes potatoes potatoes potatoes potatoes potatoes potatoes potatoes potatoes potatoes potatoes potatoes potatoes potatoes potatoes potatoes potatoes potatoes potatoes potatoes potatoes potatoes potatoes potatoes potatoes potatoes potatoes potatoes potatoes potatoes potatoes potatoes potatoes potatoes potatoes potatoes potatoes potatoes potatoes potatoes potatoes potatoes potatoes potatoes potatoes potatoes potatoes potatoes potatoes potatoes potatoes potatoes potatoes potatoes potatoes potatoes potatoes potatoes potatoes potatoes potatoes potatoes potatoes potatoes potatoes potatoes potatoes potatoes potatoes potatoes potatoes potatoes potatoes potatoes potatoes potatoes potatoes potatoes potatoes potatoes potatoes potatoes potatoes potatoes potatoes potatoes potatoes potatoes potatoes potatoes potatoes potatoes potatoes potatoes potatoes potatoes potatoes potatoes potatoes potatoes potatoes potatoes potatoes potatoes potatoes potatoes potatoes potatoes potatoes potatoes potatoes potatoes potatoes potatoes potatoes potatoes potatoes potatoes potatoes potatoes potatoes potatoes potatoes potatoes potatoes potatoes potatoes potatoes potatoes potatoes potatoes potatoes potatoes potatoes potatoes potatoes potatoes potatoes potatoes potatoes potatoes potatoes potatoes potatoes potatoes potatoes potatoes potatoes potatoes potatoes potatoes potatoes potatoes potatoes potatoes potatoes potatoes potatoes potatoes potatoes potatoes potatoes potatoes potatoes potatoes potatoes potatoes potatoes potatoes potatoes potatoes potatoes potatoes potatoes potatoes potatoes potatoes potatoes potatoes potatoes potatoes potatoes potatoes potatoes potatoes potatoes potatoes potatoes potatoes potatoes potatoes potatoes potatoes potatoes potatoes potatoes potatoes potatoes potatoes potatoes potatoes potatoes potatoes potatoes potatoes potatoes potatoes potatoes potatoes potatoes potatoes potatoes potatoes potatoes potatoes potatoes potatoes potatoes potatoes potatoes potatoes potatoes potatoes potatoes potatoes potatoes potatoes potatoes potatoes potatoes potatoes potatoes potatoes potatoes potatoes potatoes potatoes potatoes potatoes potatoes potatoes potatoes potatoes potatoes potatoes potatoes potatoes potatoes potatoes potatoes potatoes potatoes potatoes potatoes potatoes potatoes potatoes potatoes potatoes potatoes potatoes potatoes potatoes potatoes potatoes potatoes potatoes potatoes potatoes potatoes potatoes potatoes potatoes potatoes potatoes potatoes potatoes potatoes potatoes potatoes potatoes potatoes potatoes potatoes potatoes potatoes potatoes potatoes potatoes potatoes potatoes potatoes potatoes potatoes potatoes potatoes potatoes potatoes potatoes potatoes potatoes potatoes potatoes potatoes potatoes potatoes potatoes potatoes potatoes potatoes potatoes potatoes potatoes potatoes potatoes potatoes potatoes potatoes potatoes potatoes potatoes potatoes potatoes potatoes potatoes potatoes potatoes potatoes potatoes potatoes potatoes potatoes potatoes potatoes potatoes potatoes potatoes potatoes potatoes potatoes potatoes potatoes potatoes potatoes potatoes potatoes potatoes potatoes potatoes potatoes potatoes potatoes potatoes potatoes potatoes potatoes potatoes potatoes potatoes potatoes potatoes potatoes potatoes potatoes potatoes potatoes potatoes potatoes potatoes potatoes potatoes potatoes potatoes potatoes potatoes potatoes potatoes potatoes potatoes potatoes potatoes potatoes potatoes potatoes potatoes potatoes potatoes potatoes potatoes potatoes potatoes potatoes potatoes potatoes potatoes potatoes potatoes potatoes potatoes potatoes potatoes potatoes potatoes potatoes potatoes potatoes potatoes potatoes potatoes potatoes potatoes potatoes potatoes potatoes potatoes potatoes potatoes potatoes potatoes potatoes potatoes potatoes potatoes potatoes potatoes potatoes potatoes potatoes potatoes potatoes potatoes potatoes potatoes potatoes potatoes potatoes potatoes potatoes potatoes potatoes potatoes potatoes potatoes potatoes potatoes potatoes potatoes potatoes potatoes potatoes potatoes potatoes potatoes potatoes potatoes potatoes potatoes potatoes potatoes potatoes potatoes potatoes potatoes potatoes potatoes potatoes potatoes potatoes potatoes potatoes potatoes potatoes potatoes potatoes potatoes potatoes potatoes potatoes potatoes potatoes potatoes potatoes potatoes potatoes potatoes potatoes potatoes potatoes potatoes potatoes potatoes potatoes potatoes potatoes potatoes potatoes potatoes potatoes potatoes potatoes potatoes potatoes potatoes potatoes potatoes potatoes potatoes potatoes potatoes potatoes potatoes potatoes potatoes potatoes potatoes potatoes potatoes potatoes potatoes potatoes potatoes potatoes potatoes potatoes potatoes potatoes potatoes potatoes potatoes potatoes potatoes potatoes potatoes potatoes potatoes potatoes potatoes potatoes potatoes potatoes potatoes potatoes potatoes potatoes potatoes potatoes potatoes potatoes potatoes potatoes potatoes potatoes potatoes potatoes potatoes potatoes potatoes potatoes potatoes potatoes potatoes potatoes potatoes potatoes potatoes potatoes potatoes potatoes potatoes potatoes potatoes potatoes potatoes potatoes potatoes potatoes potatoes potatoes potatoes potatoes potatoes potatoes potatoes potatoes potatoes potatoes potatoes potatoes potatoes potatoes potatoes potatoes potatoes potatoes potatoes potatoes potatoes potatoes potatoes potatoes potatoes potatoes potatoes potatoes potatoes potatoes potatoes potatoes potatoes potatoes potatoes potatoes potatoes potatoes potatoes potatoes potatoes potatoes potatoes potatoes potatoes potatoes potatoes potatoes potatoes potatoes potatoes potatoes potatoes potatoes potatoes potatoes potatoes potatoes potatoes potatoes potatoes potatoes potatoes potatoes potatoes potatoes potatoes potatoes potatoes potatoes potatoes potatoes potatoes potatoes potatoes potatoes potatoes potatoes potatoes potatoes potatoes potatoes potatoes potatoes potatoes potatoes potatoes potatoes potatoes potatoes potatoes potatoes potatoes potatoes potatoes potatoes potatoes potatoes potatoes potatoes potatoes potatoes potatoes potatoes potatoes potatoes potatoes potatoes potatoes potatoes potatoes potatoes potatoes potatoes potatoes potatoes potatoes potatoes potatoes potatoes potatoes potatoes potatoes potatoes potatoes potatoes potatoes potatoes potatoes potatoes potatoes potatoes potatoes potatoes potatoes potatoes potatoes potatoes potatoes potatoes potatoes potatoes potatoes potatoes potatoes potatoes potatoes potatoes potatoes potatoes potatoes potatoes potatoes potatoes potatoes potatoes potatoes potatoes potatoes potatoes potatoes potatoes potatoes potatoes potatoes potatoes potatoes potatoes potatoes potatoes potatoes potatoes potatoes potatoes potatoes potatoes potatoes potatoes potatoes potatoes potatoes potatoes potatoes potatoes potatoes potatoes potatoes potatoes potatoes potatoes potatoes potatoes potatoes potatoes potatoes potatoes potatoes potatoes potatoes potatoes potatoes potatoes potatoes potatoes potatoes potatoes potatoes potatoes potatoes potatoes potatoes potatoes potatoes potatoes potatoes potatoes potatoes potatoes potatoes potatoes potatoes potatoes potatoes potatoes potatoes potatoes potatoes potatoes potatoes potatoes potatoes potatoes potatoes potatoes potatoes potatoes potatoes potatoes potatoes potatoes potatoes potatoes potatoes potatoes potatoes potatoes potatoes potatoes potatoes potatoes potatoes potatoes potatoes potatoes potatoes potatoes potatoes potatoes potatoes potatoes potatoes potatoes potatoes potatoes potatoes potatoes the potatoes potatoes potatoes potatoes potatoes potatoes potatoes potatoes potatoes potatoes potatoes potatoes potatoes potatoes potatoes potatoes potatoes potatoes potatoes potatoes potatoes potatoes potatoes potatoes potatoes potatoes potatoes potatoes potatoes potatoes potatoes potatoes potatoes potatoes potatoes potatoes potatoes potatoes potatoes potatoes potatoes potatoes potatoes potatoes potatoes potatoes potatoes potatoes potatoes potatoes potatoes potatoes potatoes potatoes potatoes potatoes potatoes potatoes potatoes potatoes potatoes potatoes potatoes potatoes potatoes potatoes potatoes potatoes potatoes potatoes potatoes potatoes potatoes potatoes potatoes potatoes potatoes potatoes potatoes potatoes potatoes potatoes potatoes potatoes potatoes potatoes potatoes potatoes potatoes potatoes potatoes potatoes potatoes potatoes potatoes potatoes potatoes potatoes potatoes potatoes potatoes potatoes potatoes potatoes potatoes potatoes potatoes potatoes potatoes potatoes potatoes potatoes potatoes potatoes potatoes potatoes potatoes potatoes potatoes potatoes potatoes potatoes potatoes potatoes potatoes potatoes potatoes potatoes potatoes potatoes potatoes potatoes potatoes potatoes potatoes potatoes potatoes potatoes potatoes potatoes potatoes potatoes potatoes potatoes potatoes potatoes potatoes potatoes potatoes potatoes\n",
            "\n",
            ">  whole wheat bread\n",
            "= in saucepan heat milk not to boiling step remove from heat and add sugar salt and cup butter stir until blended step cool to lukewarm step sprinkle yeast over water in large bowl step stir to dissolve yeast stir in lukewarm milk mixture step add cups whole wheat flour beat vigorously with wooden spoon until smooth step gradually add remainder of whole wheat flour step mix in last of it with hands until dough is stiff turn dough out onto lightly floured surface step knead dough for about minutes until dough is smooth and has some elasticity step place in greased large bowl step turn dough so greased side is up step cover with towel step let rise in warm place until it doubles in size about an hour step turn dough again on floured surface step divide into halves step cover about minutes step cut each of the two halves into two pieces step roll each piece into about a inch strip step twist two strips together step repeat the process step roll into a ball to fit into a x x greased pan step mold evenly into pan step repeat process with remaining two pieces step brush tops of two loaves with a little butter margarine or oil step let the two loaves rise in a warm place until dough rises to tops of pans about an hour step preheat oven f step bake in middle of oven for minutes step turn out pans onto racks brush top with melted butter step makes loaves end \n",
            "< oven potatoes potatoes potatoes potatoes potatoes potatoes potatoes potatoes potatoes potatoes potatoes potatoes potatoes potatoes potatoes potatoes potatoes potatoes potatoes potatoes potatoes potatoes potatoes potatoes potatoes potatoes potatoes potatoes potatoes potatoes potatoes potatoes potatoes potatoes potatoes potatoes potatoes potatoes potatoes potatoes potatoes potatoes potatoes potatoes potatoes potatoes potatoes potatoes potatoes potatoes potatoes potatoes potatoes potatoes potatoes potatoes potatoes potatoes potatoes potatoes potatoes potatoes potatoes potatoes potatoes potatoes potatoes potatoes potatoes potatoes potatoes potatoes potatoes potatoes potatoes potatoes potatoes potatoes potatoes potatoes potatoes potatoes potatoes potatoes potatoes potatoes potatoes potatoes potatoes potatoes potatoes potatoes potatoes potatoes potatoes potatoes potatoes potatoes potatoes potatoes potatoes potatoes potatoes potatoes potatoes potatoes potatoes potatoes potatoes potatoes potatoes potatoes potatoes potatoes potatoes potatoes potatoes potatoes potatoes potatoes potatoes potatoes potatoes potatoes potatoes potatoes potatoes potatoes potatoes potatoes potatoes potatoes potatoes potatoes potatoes potatoes potatoes potatoes potatoes potatoes potatoes potatoes potatoes potatoes potatoes potatoes potatoes potatoes potatoes potatoes potatoes potatoes potatoes potatoes potatoes potatoes potatoes potatoes potatoes potatoes potatoes potatoes potatoes potatoes potatoes potatoes potatoes potatoes potatoes potatoes potatoes potatoes potatoes potatoes potatoes potatoes potatoes potatoes potatoes potatoes potatoes potatoes potatoes potatoes potatoes potatoes potatoes potatoes potatoes potatoes potatoes potatoes potatoes potatoes potatoes potatoes potatoes potatoes potatoes potatoes potatoes potatoes potatoes potatoes potatoes potatoes potatoes potatoes potatoes potatoes potatoes potatoes potatoes potatoes potatoes potatoes potatoes potatoes potatoes potatoes potatoes potatoes potatoes potatoes potatoes potatoes potatoes potatoes potatoes potatoes potatoes potatoes potatoes potatoes potatoes potatoes potatoes potatoes potatoes potatoes potatoes potatoes potatoes potatoes potatoes potatoes potatoes potatoes potatoes potatoes potatoes potatoes potatoes potatoes potatoes potatoes potatoes potatoes potatoes potatoes potatoes potatoes potatoes potatoes potatoes potatoes potatoes potatoes potatoes potatoes potatoes potatoes potatoes potatoes potatoes potatoes potatoes potatoes potatoes potatoes potatoes potatoes potatoes potatoes potatoes potatoes potatoes potatoes potatoes potatoes potatoes potatoes potatoes potatoes potatoes potatoes potatoes potatoes potatoes potatoes potatoes potatoes potatoes potatoes potatoes potatoes potatoes potatoes potatoes potatoes potatoes potatoes potatoes potatoes potatoes potatoes potatoes potatoes potatoes potatoes potatoes potatoes potatoes potatoes potatoes potatoes potatoes potatoes potatoes potatoes potatoes potatoes potatoes potatoes potatoes potatoes potatoes potatoes potatoes potatoes potatoes potatoes potatoes potatoes potatoes potatoes potatoes potatoes potatoes potatoes potatoes potatoes potatoes potatoes potatoes potatoes potatoes potatoes potatoes potatoes potatoes potatoes potatoes potatoes potatoes potatoes potatoes potatoes potatoes potatoes potatoes potatoes potatoes potatoes potatoes potatoes potatoes potatoes potatoes potatoes potatoes potatoes potatoes potatoes potatoes potatoes potatoes potatoes potatoes potatoes potatoes potatoes potatoes potatoes potatoes potatoes potatoes potatoes potatoes potatoes potatoes potatoes potatoes potatoes potatoes potatoes potatoes potatoes potatoes potatoes potatoes potatoes potatoes potatoes potatoes potatoes potatoes potatoes potatoes potatoes potatoes potatoes potatoes potatoes potatoes potatoes potatoes potatoes potatoes potatoes potatoes potatoes potatoes potatoes potatoes potatoes potatoes potatoes potatoes potatoes potatoes potatoes potatoes potatoes potatoes potatoes potatoes potatoes potatoes potatoes potatoes potatoes potatoes potatoes potatoes potatoes potatoes potatoes potatoes potatoes potatoes potatoes potatoes potatoes potatoes potatoes potatoes potatoes potatoes potatoes potatoes potatoes potatoes potatoes potatoes potatoes potatoes potatoes potatoes potatoes potatoes potatoes potatoes potatoes potatoes potatoes potatoes potatoes potatoes potatoes potatoes potatoes potatoes potatoes potatoes potatoes potatoes potatoes potatoes potatoes potatoes potatoes potatoes potatoes potatoes potatoes potatoes potatoes potatoes potatoes potatoes potatoes potatoes potatoes potatoes potatoes potatoes potatoes potatoes potatoes potatoes potatoes potatoes potatoes potatoes potatoes potatoes potatoes potatoes potatoes potatoes potatoes potatoes potatoes potatoes potatoes potatoes potatoes potatoes potatoes potatoes potatoes potatoes potatoes potatoes potatoes potatoes potatoes potatoes potatoes potatoes potatoes potatoes potatoes potatoes potatoes potatoes potatoes potatoes potatoes potatoes potatoes potatoes potatoes potatoes potatoes potatoes potatoes potatoes potatoes potatoes potatoes potatoes potatoes potatoes potatoes potatoes potatoes potatoes potatoes potatoes potatoes potatoes potatoes potatoes potatoes potatoes potatoes potatoes potatoes potatoes potatoes potatoes potatoes potatoes potatoes potatoes potatoes potatoes potatoes potatoes potatoes potatoes potatoes potatoes potatoes potatoes potatoes potatoes potatoes potatoes potatoes potatoes potatoes potatoes potatoes potatoes potatoes potatoes potatoes potatoes potatoes potatoes potatoes potatoes potatoes potatoes potatoes potatoes potatoes potatoes potatoes potatoes potatoes potatoes potatoes potatoes potatoes potatoes potatoes potatoes potatoes potatoes potatoes potatoes potatoes potatoes potatoes potatoes potatoes potatoes potatoes potatoes potatoes potatoes potatoes potatoes potatoes potatoes potatoes potatoes potatoes potatoes potatoes potatoes potatoes potatoes potatoes potatoes potatoes potatoes potatoes potatoes potatoes potatoes potatoes potatoes potatoes potatoes potatoes potatoes potatoes potatoes potatoes potatoes potatoes potatoes potatoes potatoes potatoes potatoes potatoes potatoes potatoes potatoes potatoes potatoes potatoes potatoes potatoes potatoes potatoes potatoes potatoes potatoes potatoes potatoes potatoes potatoes potatoes potatoes potatoes potatoes potatoes potatoes potatoes potatoes potatoes potatoes potatoes potatoes potatoes potatoes potatoes potatoes potatoes potatoes potatoes potatoes potatoes potatoes potatoes potatoes potatoes potatoes potatoes potatoes potatoes potatoes potatoes potatoes potatoes potatoes potatoes potatoes potatoes potatoes potatoes potatoes potatoes potatoes potatoes potatoes potatoes potatoes potatoes potatoes potatoes potatoes potatoes potatoes potatoes potatoes potatoes potatoes potatoes potatoes potatoes potatoes potatoes potatoes potatoes potatoes potatoes potatoes potatoes potatoes potatoes potatoes potatoes potatoes potatoes potatoes potatoes potatoes potatoes potatoes potatoes potatoes potatoes potatoes potatoes potatoes potatoes potatoes potatoes potatoes potatoes potatoes potatoes potatoes potatoes potatoes potatoes potatoes potatoes potatoes potatoes potatoes potatoes potatoes potatoes potatoes potatoes potatoes potatoes potatoes potatoes potatoes potatoes potatoes potatoes potatoes potatoes potatoes potatoes potatoes potatoes potatoes potatoes potatoes potatoes potatoes potatoes potatoes potatoes potatoes potatoes potatoes potatoes potatoes potatoes potatoes potatoes potatoes potatoes potatoes potatoes potatoes potatoes potatoes potatoes potatoes potatoes potatoes potatoes potatoes potatoes potatoes potatoes potatoes potatoes potatoes potatoes potatoes potatoes potatoes potatoes potatoes potatoes potatoes potatoes potatoes potatoes potatoes potatoes potatoes potatoes potatoes potatoes potatoes potatoes potatoes potatoes potatoes potatoes potatoes potatoes potatoes potatoes potatoes potatoes potatoes potatoes potatoes potatoes potatoes potatoes potatoes potatoes potatoes potatoes potatoes potatoes potatoes potatoes potatoes potatoes potatoes potatoes potatoes potatoes potatoes potatoes potatoes potatoes potatoes potatoes potatoes potatoes potatoes potatoes potatoes potatoes potatoes potatoes potatoes potatoes potatoes potatoes potatoes potatoes potatoes potatoes potatoes potatoes potatoes potatoes potatoes potatoes potatoes potatoes potatoes potatoes potatoes potatoes potatoes potatoes potatoes potatoes potatoes potatoes potatoes potatoes potatoes potatoes potatoes potatoes potatoes potatoes potatoes potatoes potatoes potatoes potatoes potatoes potatoes potatoes potatoes potatoes potatoes potatoes potatoes potatoes potatoes potatoes potatoes potatoes potatoes potatoes potatoes potatoes potatoes potatoes potatoes potatoes potatoes potatoes potatoes potatoes potatoes potatoes potatoes potatoes potatoes potatoes potatoes potatoes potatoes\n",
            "\n",
            "> ham solo savory cake\n",
            "= make the cheese garnish step place cups of cheddar cheese in a microwave safe bowl and microwave in second intervals stirring in between until smooth and pliable step scoop the cheese into the mold pressing and spreading into the bottom step you dont want to fill the entire mold just the han solo indentations and enough to cover the entire rectangle step microwave for seconds then tap on the counter step freeze until solid at least hour step carefully remove the cheese from the mold and set aside in the fridge step make the savory cake step preheat the oven to degrees f step line a x inch cake pan with parchment paper and spray with nonstick spray step combine the bisquick milk sugar egg and salt in a large bowl and beat with an electric hand mixer until combined step add the gruyere cheese sauted onion ham and chives and fold with a spatula to combine step pour the mixture into the prepared cake pan and bake until lightly golden brown about minutes or until a toothpick comes out clean step let the cake cool completely in pan step meanwhile take the han solo cheese garnish out of the fridge and let come to room temperature step run a small offset around the edges of the cake and invert onto a cutting board step remove parchment paper and then invert again step if needed level the top of the cake with a serrated knife step place the cheese garnish on top of the cake and trim the cake with a serrated knife so that the cake and cheese have the same dimensions step set the cheese garnish aside and spread the softened butter over the top of the cake step place the cheese on top of the butter pressing to adhere step transfer the cake to a platter and serve with more ham and butter end \n",
            "< potatoes potatoes potatoes potatoes potatoes potatoes potatoes potatoes potatoes potatoes potatoes potatoes potatoes potatoes potatoes potatoes potatoes potatoes potatoes potatoes potatoes potatoes potatoes potatoes potatoes potatoes potatoes potatoes potatoes potatoes potatoes potatoes potatoes potatoes potatoes potatoes potatoes potatoes potatoes potatoes potatoes potatoes potatoes potatoes potatoes potatoes potatoes potatoes potatoes potatoes potatoes potatoes potatoes potatoes potatoes potatoes potatoes potatoes potatoes potatoes potatoes potatoes potatoes potatoes potatoes potatoes potatoes potatoes potatoes potatoes potatoes potatoes potatoes potatoes potatoes potatoes potatoes potatoes potatoes potatoes potatoes potatoes potatoes potatoes potatoes potatoes potatoes potatoes potatoes potatoes potatoes potatoes potatoes potatoes potatoes potatoes potatoes potatoes potatoes potatoes potatoes potatoes potatoes potatoes potatoes potatoes potatoes potatoes potatoes potatoes potatoes potatoes potatoes potatoes potatoes potatoes potatoes potatoes potatoes potatoes potatoes potatoes potatoes potatoes potatoes potatoes potatoes potatoes potatoes potatoes potatoes potatoes potatoes potatoes potatoes potatoes potatoes potatoes potatoes potatoes potatoes potatoes potatoes potatoes potatoes potatoes potatoes potatoes potatoes potatoes potatoes potatoes potatoes potatoes potatoes potatoes potatoes potatoes potatoes potatoes potatoes potatoes potatoes potatoes potatoes potatoes potatoes potatoes potatoes potatoes potatoes potatoes potatoes potatoes potatoes potatoes potatoes potatoes potatoes potatoes potatoes potatoes potatoes potatoes potatoes potatoes potatoes potatoes potatoes potatoes potatoes potatoes potatoes potatoes potatoes potatoes potatoes potatoes potatoes potatoes potatoes potatoes potatoes potatoes potatoes potatoes potatoes potatoes potatoes potatoes potatoes potatoes potatoes potatoes potatoes potatoes potatoes potatoes potatoes potatoes potatoes potatoes potatoes potatoes potatoes potatoes potatoes potatoes potatoes potatoes potatoes potatoes potatoes potatoes potatoes potatoes potatoes potatoes potatoes potatoes potatoes potatoes potatoes potatoes potatoes potatoes potatoes potatoes potatoes potatoes potatoes potatoes potatoes potatoes potatoes potatoes potatoes potatoes potatoes potatoes potatoes potatoes potatoes potatoes potatoes potatoes potatoes potatoes potatoes potatoes potatoes potatoes potatoes potatoes potatoes potatoes potatoes potatoes potatoes potatoes potatoes potatoes potatoes potatoes potatoes potatoes potatoes potatoes potatoes potatoes potatoes potatoes potatoes potatoes potatoes potatoes potatoes potatoes potatoes potatoes potatoes potatoes potatoes potatoes potatoes potatoes potatoes potatoes potatoes potatoes potatoes potatoes potatoes potatoes potatoes potatoes potatoes potatoes potatoes potatoes potatoes potatoes potatoes potatoes potatoes potatoes potatoes potatoes potatoes potatoes potatoes potatoes potatoes potatoes potatoes potatoes potatoes potatoes potatoes potatoes potatoes potatoes potatoes potatoes potatoes potatoes potatoes potatoes potatoes potatoes potatoes potatoes potatoes potatoes potatoes potatoes potatoes potatoes potatoes potatoes potatoes potatoes potatoes potatoes potatoes potatoes potatoes potatoes potatoes potatoes potatoes potatoes potatoes potatoes potatoes potatoes potatoes potatoes potatoes potatoes potatoes potatoes potatoes potatoes potatoes potatoes potatoes potatoes potatoes potatoes potatoes potatoes potatoes potatoes potatoes potatoes potatoes potatoes potatoes potatoes potatoes potatoes potatoes potatoes potatoes potatoes potatoes potatoes potatoes potatoes potatoes potatoes potatoes potatoes potatoes potatoes potatoes potatoes potatoes potatoes potatoes potatoes potatoes potatoes potatoes potatoes potatoes potatoes potatoes potatoes potatoes potatoes potatoes potatoes potatoes potatoes potatoes potatoes potatoes potatoes potatoes potatoes potatoes potatoes potatoes potatoes potatoes potatoes potatoes potatoes potatoes potatoes potatoes potatoes potatoes potatoes potatoes potatoes potatoes potatoes potatoes potatoes potatoes potatoes potatoes potatoes potatoes potatoes potatoes potatoes potatoes potatoes potatoes potatoes potatoes potatoes potatoes potatoes potatoes potatoes potatoes potatoes potatoes potatoes potatoes potatoes potatoes potatoes potatoes potatoes potatoes potatoes potatoes potatoes potatoes potatoes potatoes potatoes potatoes potatoes potatoes potatoes potatoes potatoes potatoes potatoes potatoes potatoes potatoes potatoes potatoes potatoes potatoes potatoes potatoes potatoes potatoes potatoes potatoes potatoes potatoes potatoes potatoes potatoes potatoes potatoes potatoes potatoes potatoes potatoes potatoes potatoes potatoes potatoes potatoes potatoes potatoes potatoes potatoes potatoes potatoes potatoes potatoes potatoes potatoes potatoes potatoes potatoes potatoes potatoes potatoes potatoes potatoes potatoes potatoes potatoes potatoes potatoes potatoes potatoes potatoes potatoes potatoes potatoes potatoes potatoes potatoes potatoes potatoes potatoes potatoes potatoes potatoes potatoes potatoes potatoes potatoes potatoes potatoes potatoes potatoes potatoes potatoes potatoes potatoes potatoes potatoes potatoes potatoes potatoes potatoes potatoes potatoes potatoes potatoes potatoes potatoes potatoes potatoes potatoes potatoes potatoes potatoes potatoes potatoes potatoes potatoes potatoes potatoes potatoes potatoes potatoes potatoes potatoes potatoes potatoes potatoes potatoes potatoes potatoes potatoes potatoes potatoes potatoes potatoes potatoes potatoes potatoes potatoes potatoes potatoes potatoes potatoes potatoes potatoes potatoes potatoes potatoes potatoes potatoes potatoes potatoes potatoes potatoes potatoes potatoes potatoes potatoes potatoes potatoes potatoes potatoes potatoes potatoes potatoes potatoes potatoes potatoes potatoes potatoes potatoes potatoes potatoes potatoes potatoes potatoes potatoes potatoes potatoes potatoes potatoes potatoes potatoes potatoes potatoes potatoes potatoes potatoes potatoes potatoes potatoes potatoes potatoes potatoes potatoes potatoes potatoes potatoes potatoes potatoes potatoes potatoes potatoes potatoes potatoes potatoes potatoes potatoes potatoes potatoes potatoes potatoes potatoes potatoes potatoes potatoes potatoes potatoes potatoes potatoes potatoes potatoes potatoes potatoes potatoes potatoes potatoes potatoes potatoes potatoes potatoes potatoes potatoes potatoes potatoes potatoes potatoes potatoes potatoes potatoes potatoes potatoes potatoes potatoes potatoes potatoes potatoes potatoes potatoes potatoes potatoes potatoes potatoes potatoes potatoes potatoes potatoes potatoes potatoes potatoes potatoes potatoes potatoes potatoes potatoes potatoes potatoes potatoes potatoes potatoes potatoes potatoes potatoes potatoes potatoes potatoes potatoes potatoes potatoes potatoes potatoes potatoes potatoes potatoes potatoes potatoes potatoes potatoes potatoes potatoes potatoes potatoes potatoes potatoes potatoes potatoes potatoes potatoes potatoes potatoes potatoes potatoes potatoes potatoes potatoes potatoes potatoes potatoes potatoes potatoes potatoes potatoes potatoes potatoes potatoes potatoes potatoes potatoes potatoes potatoes potatoes potatoes potatoes potatoes potatoes potatoes potatoes potatoes potatoes potatoes potatoes potatoes potatoes potatoes potatoes potatoes potatoes potatoes potatoes potatoes potatoes potatoes potatoes potatoes potatoes potatoes potatoes potatoes potatoes potatoes potatoes potatoes potatoes potatoes potatoes potatoes potatoes potatoes potatoes potatoes potatoes potatoes potatoes potatoes potatoes potatoes potatoes potatoes potatoes potatoes potatoes potatoes potatoes potatoes potatoes potatoes potatoes potatoes potatoes potatoes potatoes potatoes potatoes potatoes potatoes potatoes potatoes potatoes potatoes potatoes potatoes potatoes potatoes potatoes potatoes potatoes potatoes potatoes potatoes potatoes potatoes potatoes potatoes potatoes potatoes potatoes potatoes potatoes potatoes potatoes potatoes potatoes potatoes potatoes potatoes potatoes potatoes potatoes potatoes potatoes potatoes potatoes potatoes potatoes potatoes potatoes potatoes potatoes potatoes potatoes potatoes potatoes potatoes potatoes potatoes potatoes potatoes potatoes potatoes potatoes potatoes potatoes potatoes potatoes potatoes potatoes potatoes potatoes potatoes potatoes potatoes potatoes potatoes potatoes potatoes potatoes potatoes potatoes potatoes potatoes potatoes potatoes potatoes potatoes potatoes potatoes potatoes potatoes potatoes potatoes potatoes potatoes potatoes potatoes potatoes potatoes potatoes potatoes potatoes potatoes potatoes potatoes potatoes potatoes potatoes potatoes potatoes potatoes potatoes potatoes potatoes potatoes potatoes potatoes potatoes potatoes potatoes potatoes potatoes potatoes potatoes potatoes potatoes potatoes potatoes potatoes potatoes potatoes potatoes potatoes\n",
            "\n"
          ]
        }
      ],
      "source": [
        "evaluateRandomly(encoder1, attn_decoder1)"
      ]
    },
    {
      "cell_type": "markdown",
      "metadata": {},
      "source": [
        "### Visualizing Attention\n",
        "\n",
        "A useful property of the attention mechanism is its highly interpretable\n",
        "outputs. Because it is used to weight specific encoder outputs of the\n",
        "input sequence, we can imagine looking where the network is focused most\n",
        "at each time step.\n",
        "\n",
        "You could simply run ``plt.matshow(attentions)`` to see attention output\n",
        "displayed as a matrix, with the columns being input steps and rows being\n",
        "output steps:\n",
        "\n",
        "\n"
      ]
    },
    {
      "cell_type": "code",
      "execution_count": null,
      "metadata": {
        "collapsed": false
      },
      "outputs": [
        {
          "ename": "KeyError",
          "evalue": "'je'",
          "output_type": "error",
          "traceback": [
            "\u001b[1;31m---------------------------------------------------------------------------\u001b[0m",
            "\u001b[1;31mKeyError\u001b[0m                                  Traceback (most recent call last)",
            "\u001b[1;32m~\\AppData\\Local\\Temp\\ipykernel_3188\\753775411.py\u001b[0m in \u001b[0;36m<module>\u001b[1;34m\u001b[0m\n\u001b[0;32m      1\u001b[0m output_words, attentions = evaluate(\n\u001b[1;32m----> 2\u001b[1;33m     encoder1, attn_decoder1, \"je suis trop froid .\")\n\u001b[0m\u001b[0;32m      3\u001b[0m \u001b[0mplt\u001b[0m\u001b[1;33m.\u001b[0m\u001b[0mmatshow\u001b[0m\u001b[1;33m(\u001b[0m\u001b[0mattentions\u001b[0m\u001b[1;33m.\u001b[0m\u001b[0mnumpy\u001b[0m\u001b[1;33m(\u001b[0m\u001b[1;33m)\u001b[0m\u001b[1;33m)\u001b[0m\u001b[1;33m\u001b[0m\u001b[1;33m\u001b[0m\u001b[0m\n",
            "\u001b[1;32m~\\AppData\\Local\\Temp\\ipykernel_3188\\2252166311.py\u001b[0m in \u001b[0;36mevaluate\u001b[1;34m(encoder, decoder, sentence, max_length)\u001b[0m\n\u001b[0;32m      1\u001b[0m \u001b[1;32mdef\u001b[0m \u001b[0mevaluate\u001b[0m\u001b[1;33m(\u001b[0m\u001b[0mencoder\u001b[0m\u001b[1;33m,\u001b[0m \u001b[0mdecoder\u001b[0m\u001b[1;33m,\u001b[0m \u001b[0msentence\u001b[0m\u001b[1;33m,\u001b[0m \u001b[0mmax_length\u001b[0m\u001b[1;33m=\u001b[0m\u001b[0mMAX_LENGTH\u001b[0m\u001b[1;33m)\u001b[0m\u001b[1;33m:\u001b[0m\u001b[1;33m\u001b[0m\u001b[1;33m\u001b[0m\u001b[0m\n\u001b[0;32m      2\u001b[0m     \u001b[1;32mwith\u001b[0m \u001b[0mtorch\u001b[0m\u001b[1;33m.\u001b[0m\u001b[0mno_grad\u001b[0m\u001b[1;33m(\u001b[0m\u001b[1;33m)\u001b[0m\u001b[1;33m:\u001b[0m\u001b[1;33m\u001b[0m\u001b[1;33m\u001b[0m\u001b[0m\n\u001b[1;32m----> 3\u001b[1;33m         \u001b[0minput_tensor\u001b[0m \u001b[1;33m=\u001b[0m \u001b[0mtensorFromSentence\u001b[0m\u001b[1;33m(\u001b[0m\u001b[0minput_lang\u001b[0m\u001b[1;33m,\u001b[0m \u001b[0msentence\u001b[0m\u001b[1;33m)\u001b[0m\u001b[1;33m\u001b[0m\u001b[1;33m\u001b[0m\u001b[0m\n\u001b[0m\u001b[0;32m      4\u001b[0m         \u001b[0minput_length\u001b[0m \u001b[1;33m=\u001b[0m \u001b[0minput_tensor\u001b[0m\u001b[1;33m.\u001b[0m\u001b[0msize\u001b[0m\u001b[1;33m(\u001b[0m\u001b[1;33m)\u001b[0m\u001b[1;33m[\u001b[0m\u001b[1;36m0\u001b[0m\u001b[1;33m]\u001b[0m\u001b[1;33m\u001b[0m\u001b[1;33m\u001b[0m\u001b[0m\n\u001b[0;32m      5\u001b[0m         \u001b[0mencoder_hidden\u001b[0m \u001b[1;33m=\u001b[0m \u001b[0mencoder\u001b[0m\u001b[1;33m.\u001b[0m\u001b[0minitHidden\u001b[0m\u001b[1;33m(\u001b[0m\u001b[1;33m)\u001b[0m\u001b[1;33m\u001b[0m\u001b[1;33m\u001b[0m\u001b[0m\n",
            "\u001b[1;32m~\\AppData\\Local\\Temp\\ipykernel_3188\\3851581242.py\u001b[0m in \u001b[0;36mtensorFromSentence\u001b[1;34m(lang, sentence)\u001b[0m\n\u001b[0;32m      4\u001b[0m \u001b[1;33m\u001b[0m\u001b[0m\n\u001b[0;32m      5\u001b[0m \u001b[1;32mdef\u001b[0m \u001b[0mtensorFromSentence\u001b[0m\u001b[1;33m(\u001b[0m\u001b[0mlang\u001b[0m\u001b[1;33m,\u001b[0m \u001b[0msentence\u001b[0m\u001b[1;33m)\u001b[0m\u001b[1;33m:\u001b[0m\u001b[1;33m\u001b[0m\u001b[1;33m\u001b[0m\u001b[0m\n\u001b[1;32m----> 6\u001b[1;33m     \u001b[0mindexes\u001b[0m \u001b[1;33m=\u001b[0m \u001b[0mindexesFromSentence\u001b[0m\u001b[1;33m(\u001b[0m\u001b[0mlang\u001b[0m\u001b[1;33m,\u001b[0m \u001b[0msentence\u001b[0m\u001b[1;33m)\u001b[0m\u001b[1;33m\u001b[0m\u001b[1;33m\u001b[0m\u001b[0m\n\u001b[0m\u001b[0;32m      7\u001b[0m     \u001b[0mindexes\u001b[0m\u001b[1;33m.\u001b[0m\u001b[0mappend\u001b[0m\u001b[1;33m(\u001b[0m\u001b[0mEOS_token\u001b[0m\u001b[1;33m)\u001b[0m\u001b[1;33m\u001b[0m\u001b[1;33m\u001b[0m\u001b[0m\n\u001b[0;32m      8\u001b[0m     \u001b[1;32mreturn\u001b[0m \u001b[0mtorch\u001b[0m\u001b[1;33m.\u001b[0m\u001b[0mtensor\u001b[0m\u001b[1;33m(\u001b[0m\u001b[0mindexes\u001b[0m\u001b[1;33m,\u001b[0m \u001b[0mdtype\u001b[0m\u001b[1;33m=\u001b[0m\u001b[0mtorch\u001b[0m\u001b[1;33m.\u001b[0m\u001b[0mlong\u001b[0m\u001b[1;33m,\u001b[0m \u001b[0mdevice\u001b[0m\u001b[1;33m=\u001b[0m\u001b[0mdevice\u001b[0m\u001b[1;33m)\u001b[0m\u001b[1;33m.\u001b[0m\u001b[0mview\u001b[0m\u001b[1;33m(\u001b[0m\u001b[1;33m-\u001b[0m\u001b[1;36m1\u001b[0m\u001b[1;33m,\u001b[0m \u001b[1;36m1\u001b[0m\u001b[1;33m)\u001b[0m\u001b[1;33m\u001b[0m\u001b[1;33m\u001b[0m\u001b[0m\n",
            "\u001b[1;32m~\\AppData\\Local\\Temp\\ipykernel_3188\\3851581242.py\u001b[0m in \u001b[0;36mindexesFromSentence\u001b[1;34m(lang, sentence)\u001b[0m\n\u001b[0;32m      1\u001b[0m \u001b[1;32mdef\u001b[0m \u001b[0mindexesFromSentence\u001b[0m\u001b[1;33m(\u001b[0m\u001b[0mlang\u001b[0m\u001b[1;33m,\u001b[0m \u001b[0msentence\u001b[0m\u001b[1;33m)\u001b[0m\u001b[1;33m:\u001b[0m\u001b[1;33m\u001b[0m\u001b[1;33m\u001b[0m\u001b[0m\n\u001b[1;32m----> 2\u001b[1;33m     \u001b[1;32mreturn\u001b[0m \u001b[1;33m[\u001b[0m\u001b[0mlang\u001b[0m\u001b[1;33m.\u001b[0m\u001b[0mword2index\u001b[0m\u001b[1;33m[\u001b[0m\u001b[0mword\u001b[0m\u001b[1;33m]\u001b[0m \u001b[1;32mfor\u001b[0m \u001b[0mword\u001b[0m \u001b[1;32min\u001b[0m \u001b[0msentence\u001b[0m\u001b[1;33m.\u001b[0m\u001b[0msplit\u001b[0m\u001b[1;33m(\u001b[0m\u001b[1;34m' '\u001b[0m\u001b[1;33m)\u001b[0m\u001b[1;33m]\u001b[0m\u001b[1;33m\u001b[0m\u001b[1;33m\u001b[0m\u001b[0m\n\u001b[0m\u001b[0;32m      3\u001b[0m \u001b[1;33m\u001b[0m\u001b[0m\n\u001b[0;32m      4\u001b[0m \u001b[1;33m\u001b[0m\u001b[0m\n\u001b[0;32m      5\u001b[0m \u001b[1;32mdef\u001b[0m \u001b[0mtensorFromSentence\u001b[0m\u001b[1;33m(\u001b[0m\u001b[0mlang\u001b[0m\u001b[1;33m,\u001b[0m \u001b[0msentence\u001b[0m\u001b[1;33m)\u001b[0m\u001b[1;33m:\u001b[0m\u001b[1;33m\u001b[0m\u001b[1;33m\u001b[0m\u001b[0m\n",
            "\u001b[1;32m~\\AppData\\Local\\Temp\\ipykernel_3188\\3851581242.py\u001b[0m in \u001b[0;36m<listcomp>\u001b[1;34m(.0)\u001b[0m\n\u001b[0;32m      1\u001b[0m \u001b[1;32mdef\u001b[0m \u001b[0mindexesFromSentence\u001b[0m\u001b[1;33m(\u001b[0m\u001b[0mlang\u001b[0m\u001b[1;33m,\u001b[0m \u001b[0msentence\u001b[0m\u001b[1;33m)\u001b[0m\u001b[1;33m:\u001b[0m\u001b[1;33m\u001b[0m\u001b[1;33m\u001b[0m\u001b[0m\n\u001b[1;32m----> 2\u001b[1;33m     \u001b[1;32mreturn\u001b[0m \u001b[1;33m[\u001b[0m\u001b[0mlang\u001b[0m\u001b[1;33m.\u001b[0m\u001b[0mword2index\u001b[0m\u001b[1;33m[\u001b[0m\u001b[0mword\u001b[0m\u001b[1;33m]\u001b[0m \u001b[1;32mfor\u001b[0m \u001b[0mword\u001b[0m \u001b[1;32min\u001b[0m \u001b[0msentence\u001b[0m\u001b[1;33m.\u001b[0m\u001b[0msplit\u001b[0m\u001b[1;33m(\u001b[0m\u001b[1;34m' '\u001b[0m\u001b[1;33m)\u001b[0m\u001b[1;33m]\u001b[0m\u001b[1;33m\u001b[0m\u001b[1;33m\u001b[0m\u001b[0m\n\u001b[0m\u001b[0;32m      3\u001b[0m \u001b[1;33m\u001b[0m\u001b[0m\n\u001b[0;32m      4\u001b[0m \u001b[1;33m\u001b[0m\u001b[0m\n\u001b[0;32m      5\u001b[0m \u001b[1;32mdef\u001b[0m \u001b[0mtensorFromSentence\u001b[0m\u001b[1;33m(\u001b[0m\u001b[0mlang\u001b[0m\u001b[1;33m,\u001b[0m \u001b[0msentence\u001b[0m\u001b[1;33m)\u001b[0m\u001b[1;33m:\u001b[0m\u001b[1;33m\u001b[0m\u001b[1;33m\u001b[0m\u001b[0m\n",
            "\u001b[1;31mKeyError\u001b[0m: 'je'"
          ]
        }
      ],
      "source": [
        "output_words, attentions = evaluate(\n",
        "    encoder1, attn_decoder1, \"je suis trop froid .\")\n",
        "plt.matshow(attentions.numpy())"
      ]
    },
    {
      "cell_type": "markdown",
      "metadata": {},
      "source": [
        "For a better viewing experience we will do the extra work of adding axes\n",
        "and labels:\n",
        "\n",
        "\n"
      ]
    },
    {
      "cell_type": "code",
      "execution_count": null,
      "metadata": {
        "collapsed": false
      },
      "outputs": [],
      "source": [
        "def showAttention(input_sentence, output_words, attentions):\n",
        "    # Set up figure with colorbar\n",
        "    fig = plt.figure()\n",
        "    ax = fig.add_subplot(111)\n",
        "    cax = ax.matshow(attentions.numpy(), cmap='bone')\n",
        "    fig.colorbar(cax)\n",
        "\n",
        "    # Set up axes\n",
        "    ax.set_xticklabels([''] + input_sentence.split(' ') +\n",
        "                       ['<EOS>'], rotation=90)\n",
        "    ax.set_yticklabels([''] + output_words)\n",
        "\n",
        "    # Show label at every tick\n",
        "    ax.xaxis.set_major_locator(ticker.MultipleLocator(1))\n",
        "    ax.yaxis.set_major_locator(ticker.MultipleLocator(1))\n",
        "\n",
        "    plt.show()\n",
        "\n",
        "\n",
        "def evaluateAndShowAttention(input_sentence):\n",
        "    output_words, attentions = evaluate(\n",
        "        encoder1, attn_decoder1, input_sentence)\n",
        "    print('input =', input_sentence)\n",
        "    print('output =', ' '.join(output_words))\n",
        "    showAttention(input_sentence, output_words, attentions)\n",
        "\n",
        "\n",
        "evaluateAndShowAttention(\"elle a cinq ans de moins que moi .\")\n",
        "\n",
        "evaluateAndShowAttention(\"elle est trop petit .\")\n",
        "\n",
        "evaluateAndShowAttention(\"je ne crains pas de mourir .\")\n",
        "\n",
        "evaluateAndShowAttention(\"c est un jeune directeur plein de talent .\")"
      ]
    },
    {
      "cell_type": "markdown",
      "metadata": {},
      "source": [
        "## Exercises\n",
        "\n",
        "-  Try with a different dataset\n",
        "\n",
        "   -  Another language pair\n",
        "   -  Human → Machine (e.g. IOT commands)\n",
        "   -  Chat → Response\n",
        "   -  Question → Answer\n",
        "\n",
        "-  Replace the embeddings with pre-trained word embeddings such as word2vec or\n",
        "   GloVe\n",
        "-  Try with more layers, more hidden units, and more sentences. Compare\n",
        "   the training time and results.\n",
        "-  If you use a translation file where pairs have two of the same phrase\n",
        "   (``I am test \\t I am test``), you can use this as an autoencoder. Try\n",
        "   this:\n",
        "\n",
        "   -  Train as an autoencoder\n",
        "   -  Save only the Encoder network\n",
        "   -  Train a new Decoder for translation from there\n",
        "\n",
        "\n"
      ]
    }
  ],
  "metadata": {
    "kernelspec": {
      "display_name": "venv",
      "language": "python",
      "name": "python3"
    },
    "language_info": {
      "codemirror_mode": {
        "name": "ipython",
        "version": 3
      },
      "file_extension": ".py",
      "mimetype": "text/x-python",
      "name": "python",
      "nbconvert_exporter": "python",
      "pygments_lexer": "ipython3",
      "version": "3.10.0"
    },
    "vscode": {
      "interpreter": {
        "hash": "d5b370db8c4f0b7e7c3539ed96a23845657087c428c83493fd6998acf4a741d4"
      }
    }
  },
  "nbformat": 4,
  "nbformat_minor": 0
}
